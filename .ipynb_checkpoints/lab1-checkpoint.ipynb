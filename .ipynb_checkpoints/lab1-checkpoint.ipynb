{
 "cells": [
  {
   "cell_type": "markdown",
   "metadata": {},
   "source": [
    "# Algorytmy macierzowe\n",
    "### lab1"
   ]
  },
  {
   "cell_type": "markdown",
   "metadata": {},
   "source": [
    "1. Rekurencyjne mnożenie macierzy metodą Binet`a (10 punktów)"
   ]
  },
  {
   "cell_type": "code",
   "execution_count": null,
   "metadata": {},
   "outputs": [],
   "source": []
  },
  {
   "cell_type": "markdown",
   "metadata": {},
   "source": [
    "2. Rekurencyjne mnożenie macierzy metodą Strassena (10 punktów)"
   ]
  },
  {
   "cell_type": "code",
   "execution_count": 1,
   "metadata": {},
   "outputs": [],
   "source": [
    "import numpy as np\n",
    "import time"
   ]
  },
  {
   "cell_type": "code",
   "execution_count": 2,
   "metadata": {},
   "outputs": [],
   "source": [
    "def Standard(A,B):\n",
    "    result = np.zeros((len(A), len(A)), dtype=float)\n",
    "    for i in range(len(A)):\n",
    "        for j in range(len(B[0])):\n",
    "               for k in range(len(B)):\n",
    "                    result[i][j] += A[i][k] * B[k][j]\n",
    "                \n",
    "    return result\n",
    "\n",
    "def Strassen_time(A,B):\n",
    "    n = len(A)\n",
    "    if(n==1):\n",
    "        return A*B\n",
    "    \n",
    "    A11 = A[:n//2, :n//2]\n",
    "    B11 = B[:n//2, :n//2]\n",
    "    \n",
    "    A12 = A[:n//2, (n//2):]\n",
    "    B12 = B[:n//2, (n//2):]\n",
    "    \n",
    "    A21 = A[(n//2): , :n//2]\n",
    "    B21 = B[(n//2): , :n//2]\n",
    "    \n",
    "    A22 = A[(n//2): , (n//2):]\n",
    "    B22 = B[(n//2): , (n//2):]\n",
    "\n",
    "    \n",
    "    P1 = Strassen_time((A11 + A22), (B11 + B22))\n",
    "    P2 = Strassen_time((A21 + A22), B11)\n",
    "    P3 = Strassen_time(A11, (B12 - B22))\n",
    "    P4 = Strassen_time(A22, (B21 - B11))\n",
    "    P5 = Strassen_time((A11 + A12), B22)\n",
    "    P6 = Strassen_time((A21 - A11), (B11 + B12))\n",
    "    P7 = Strassen_time((A12 - A22), (B21 + B22))\n",
    "    \n",
    "    C11 = (P1 + P4 - P5 + P7)\n",
    "    C12 = (P3 + P5)\n",
    "    C21 = (P2 + P4)\n",
    "    C22 = (P1 - P2 + P3 + P6)\n",
    "    \n",
    "    '''top_row = np.hstack((C11, C12))\n",
    "    bottom_row = np.hstack((C21, C22))\n",
    "    result = np.vstack((top_row, bottom_row))'''\n",
    "\n",
    "    result = np.empty((n, n))\n",
    "    result[:n // 2, :n // 2] = C11\n",
    "    result[:n // 2, n // 2:] = C12\n",
    "    result[n // 2:, :n // 2] = C21\n",
    "    result[n // 2:, n // 2:] = C22\n",
    "    \n",
    "    return result\n",
    "\n",
    "def Strassen_flops(A,B):\n",
    "    pass"
   ]
  },
  {
   "cell_type": "code",
   "execution_count": 4,
   "metadata": {},
   "outputs": [
    {
     "name": "stdout",
     "output_type": "stream",
     "text": [
      "Strassen time: 2.164651393890381  | numpy time: 0.01853322982788086 | Standard time: 1.13627290725708 |is correct: True, True\n"
     ]
    }
   ],
   "source": [
    "n = 7\n",
    "A = np.random.rand(2**n, 2**n)\n",
    "B = np.random.rand(2**n, 2**n)\n",
    "\n",
    "start = time.time()\n",
    "st_res = Strassen_time(A,B)\n",
    "end = time.time()\n",
    "\n",
    "\n",
    "nstart = time.time()\n",
    "res = A@B\n",
    "nend = time.time()\n",
    "\n",
    "sstart = time.time()\n",
    "sres = Standard(A,B)\n",
    "send = time.time()\n",
    "\n",
    "print(f\"Strassen time: {end - start}  | numpy time: {nend - nstart} | Standard time: {send - sstart} |is correct: {np.allclose(st_res, res)}, {np.allclose(sres, res)}\")"
   ]
  },
  {
   "cell_type": "markdown",
   "metadata": {},
   "source": [
    "3. Mnożenie macierzy metodą znalezioną przez sztuczną inteligencję (10 punktów)"
   ]
  },
  {
   "cell_type": "code",
   "execution_count": null,
   "metadata": {},
   "outputs": [],
   "source": []
  }
 ],
 "metadata": {
  "kernelspec": {
   "display_name": "Python 3 (ipykernel)",
   "language": "python",
   "name": "python3"
  },
  "language_info": {
   "codemirror_mode": {
    "name": "ipython",
    "version": 3
   },
   "file_extension": ".py",
   "mimetype": "text/x-python",
   "name": "python",
   "nbconvert_exporter": "python",
   "pygments_lexer": "ipython3",
   "version": "3.9.12"
  }
 },
 "nbformat": 4,
 "nbformat_minor": 2
}
