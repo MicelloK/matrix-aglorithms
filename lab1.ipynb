{
 "cells": [
  {
   "cell_type": "markdown",
   "metadata": {},
   "source": [
    "# Algorytmy macierzowe\n",
    "### lab1"
   ]
  },
  {
   "cell_type": "code",
   "execution_count": 197,
   "metadata": {},
   "outputs": [],
   "source": [
    "import numpy as np"
   ]
  },
  {
   "cell_type": "code",
   "execution_count": 198,
   "metadata": {},
   "outputs": [],
   "source": [
    "def random_matrix(matrix_size, min_val, max_val):\n",
    "    \"\"\"Return matrix with random floats from [min_val, max_val)\"\"\"\n",
    "    return (max_val - min_val) * np.random.random(matrix_size) + min_val"
   ]
  },
  {
   "cell_type": "code",
   "execution_count": 199,
   "metadata": {},
   "outputs": [],
   "source": [
    "# GENERATE MATRICES\n",
    "\n",
    "matrix_size = (4, 4)\n",
    "\n",
    "min_val = 0.00000001\n",
    "max_val = 1\n",
    "\n",
    "A = random_matrix(matrix_size, min_val, max_val)\n",
    "B = random_matrix(matrix_size, min_val, max_val)"
   ]
  },
  {
   "cell_type": "markdown",
   "metadata": {},
   "source": [
    "Standardowe mnożenie macierzy"
   ]
  },
  {
   "cell_type": "code",
   "execution_count": 200,
   "metadata": {},
   "outputs": [],
   "source": [
    "def standard_mlt(A, B):\n",
    "    operation_count = 0\n",
    "    result = np.zeros((len(A), len(A)), dtype=float)\n",
    "    for i in range(len(A)):\n",
    "        for j in range(len(B[0])):\n",
    "               for k in range(len(B)):\n",
    "                    result[i][j] += A[i][k] * B[k][j]\n",
    "                    operation_count += 2\n",
    "    return result, operation_count"
   ]
  },
  {
   "cell_type": "markdown",
   "metadata": {},
   "source": [
    "1. Rekurencyjne mnożenie macierzy metodą Binet`a (10 punktów)"
   ]
  },
  {
   "cell_type": "code",
   "execution_count": 201,
   "metadata": {},
   "outputs": [],
   "source": [
    "def binet_mlt(A, B):\n",
    "    global operation_count\n",
    "    \n",
    "    if len(A) != len(B):\n",
    "        print(\"ERROR: Wrong matrix dimensions!\")\n",
    "    elif len(A) == 1:\n",
    "        operation_count += 1\n",
    "        return A * B\n",
    "    else:\n",
    "        matrix_size = len(A)\n",
    "        \n",
    "        A11 = A[:matrix_size//2, :matrix_size//2]\n",
    "        A12 = A[:matrix_size//2, matrix_size//2:]\n",
    "        A21 = A[matrix_size//2:, :matrix_size//2]\n",
    "        A22 = A[matrix_size//2:, matrix_size//2:]\n",
    "\n",
    "        B11 = B[:matrix_size//2, :matrix_size//2]\n",
    "        B12 = B[:matrix_size//2, matrix_size//2:]\n",
    "        B21 = B[matrix_size//2:, :matrix_size//2]\n",
    "        B22 = B[matrix_size//2:, matrix_size//2:]\n",
    "        \n",
    "        C11 = binet_mlt(A11, B11) + binet_mlt(A12, B21)\n",
    "        C12 = binet_mlt(A11, B12) + binet_mlt(A12, B22)\n",
    "        C21 = binet_mlt(A21, B11) + binet_mlt(A22, B21)\n",
    "        C22 = binet_mlt(A21, B12) + binet_mlt(A22, B22)\n",
    "        operation_count += matrix_size ** 2\n",
    "        \n",
    "        return np.vstack((np.hstack((C11, C12)), np.hstack((C21, C22))))"
   ]
  },
  {
   "cell_type": "code",
   "execution_count": 203,
   "metadata": {},
   "outputs": [
    {
     "name": "stdout",
     "output_type": "stream",
     "text": [
      "Is correct?: True\n",
      "Number of operations: 112\n",
      "Number of operations (Standard mlt): 128\n"
     ]
    }
   ],
   "source": [
    "operation_count = 0\n",
    "res = binet_mlt(A, B)\n",
    "print(\"Is correct?:\", np.allclose(res, A.dot(B)))\n",
    "print(\"Number of operations:\", operation_count)\n",
    "print(\"Number of operations (Standard mlt):\", standard_mlt(A, B)[1])\n",
    "# print(\"Result:\", res, sep='\\n')"
   ]
  },
  {
   "cell_type": "markdown",
   "metadata": {},
   "source": [
    "2. Rekurencyjne mnożenie macierzy metodą Strassena (10 punktów)"
   ]
  },
  {
   "cell_type": "code",
   "execution_count": 1,
   "metadata": {},
   "outputs": [],
   "source": [
    "import numpy as np\n",
    "import time"
   ]
  },
  {
   "cell_type": "code",
   "execution_count": 5,
   "metadata": {},
   "outputs": [],
   "source": [
    "def strassen_time(A,B):\n",
    "    n = len(A)\n",
    "    if(n==2):\n",
    "        a00 = A[0,0]*B[0,0] + A[0,1]*B[1,0]\n",
    "        a01 = A[0,0]*B[0,1] + A[0,1]*B[1,1]\n",
    "        \n",
    "        a10 = A[1,0]*B[0,0] + A[1,1]*B[1,0]\n",
    "        a11 = A[1,0]*B[0,1] + A[1,1]*B[1,1]\n",
    "        return np.array([[a00,a01],\n",
    "                        [a10,a11]])\n",
    "    \n",
    "    A11 = A[:n//2, :n//2]\n",
    "    B11 = B[:n//2, :n//2]\n",
    "    \n",
    "    A12 = A[:n//2, (n//2):]\n",
    "    B12 = B[:n//2, (n//2):]\n",
    "    \n",
    "    A21 = A[(n//2): , :n//2]\n",
    "    B21 = B[(n//2): , :n//2]\n",
    "    \n",
    "    A22 = A[(n//2): , (n//2):]\n",
    "    B22 = B[(n//2): , (n//2):]\n",
    "\n",
    "    \n",
    "    P1 = strassen_time((A11 + A22), (B11 + B22))\n",
    "    P2 = strassen_time((A21 + A22), B11)\n",
    "    P3 = strassen_time(A11, (B12 - B22))\n",
    "    P4 = strassen_time(A22, (B21 - B11))\n",
    "    P5 = strassen_time((A11 + A12), B22)\n",
    "    P6 = strassen_time((A21 - A11), (B11 + B12))\n",
    "    P7 = strassen_time((A12 - A22), (B21 + B22))\n",
    "    \n",
    "    C11 = (P1 + P4 - P5 + P7)\n",
    "    C12 = (P3 + P5)\n",
    "    C21 = (P2 + P4)\n",
    "    C22 = (P1 - P2 + P3 + P6)\n",
    "    \n",
    "    '''top_row = np.hstack((C11, C12))\n",
    "    bottom_row = np.hstack((C21, C22))\n",
    "    result = np.vstack((top_row, bottom_row))'''\n",
    "\n",
    "    result = np.empty((n, n))\n",
    "    result[:n // 2, :n // 2] = C11\n",
    "    result[:n // 2, n // 2:] = C12\n",
    "    result[n // 2:, :n // 2] = C21\n",
    "    result[n // 2:, n // 2:] = C22\n",
    "    \n",
    "    return result\n",
    "\n",
    "def Strassen_flops(A,B):\n",
    "    pass"
   ]
  },
  {
   "cell_type": "code",
   "execution_count": 6,
   "metadata": {},
   "outputs": [
    {
     "name": "stdout",
     "output_type": "stream",
     "text": [
      "Strassen time: 0.7871763706207275  | numpy time: 0.003000974655151367 | Standard time: 1.1572611331939697 |is correct: True, True\n"
     ]
    }
   ],
   "source": [
    "n = 7\n",
    "A = np.random.rand(2**n, 2**n)\n",
    "B = np.random.rand(2**n, 2**n)\n",
    "\n",
    "start = time.time()\n",
    "st_res = strassen_time(A,B)\n",
    "end = time.time()\n",
    "\n",
    "\n",
    "nstart = time.time()\n",
    "res = A@B\n",
    "nend = time.time()\n",
    "\n",
    "sstart = time.time()\n",
    "sres = standard(A,B)\n",
    "send = time.time()\n",
    "\n",
    "print(f\"Strassen time: {end - start}  | numpy time: {nend - nstart} | Standard time: {send - sstart} |is correct: {np.allclose(st_res, res)}, {np.allclose(sres, res)}\")"
   ]
  },
  {
   "cell_type": "markdown",
   "metadata": {},
   "source": [
    "3. Mnożenie macierzy metodą znalezioną przez sztuczną inteligencję (10 punktów)"
   ]
  },
  {
   "cell_type": "code",
   "execution_count": null,
   "metadata": {},
   "outputs": [],
   "source": []
  }
 ],
 "metadata": {
  "kernelspec": {
   "display_name": "Python 3 (ipykernel)",
   "language": "python",
   "name": "python3"
  },
  "language_info": {
   "codemirror_mode": {
    "name": "ipython",
    "version": 3
   },
   "file_extension": ".py",
   "mimetype": "text/x-python",
   "name": "python",
   "nbconvert_exporter": "python",
   "pygments_lexer": "ipython3",
   "version": "3.11.6"
  }
 },
 "nbformat": 4,
 "nbformat_minor": 2
}
