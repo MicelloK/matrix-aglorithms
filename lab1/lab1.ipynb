{
 "cells": [
  {
   "cell_type": "markdown",
   "metadata": {},
   "source": [
    "# Algorytmy macierzowe\n",
    "## lab 1"
   ]
  },
  {
   "cell_type": "code",
   "execution_count": 33,
   "metadata": {},
   "outputs": [],
   "source": [
    "import numpy as np\n",
    "from time import time\n",
    "from matplotlib import pyplot as plt"
   ]
  },
  {
   "cell_type": "markdown",
   "metadata": {},
   "source": [
    "Generowanie macierzy"
   ]
  },
  {
   "cell_type": "code",
   "execution_count": 34,
   "metadata": {},
   "outputs": [],
   "source": [
    "def random_matrix(matrix_size, min_val, max_val):\n",
    "    \"\"\"Return matrix with random floats from [min_val, max_val)\"\"\"\n",
    "    return (max_val - min_val) * np.random.random(matrix_size) + min_val"
   ]
  },
  {
   "cell_type": "code",
   "execution_count": 141,
   "metadata": {},
   "outputs": [],
   "source": [
    "exp = 8\n",
    "matrix_size = (exp, exp)\n",
    "\n",
    "min_val = 0.00000001\n",
    "max_val = 1\n",
    "\n",
    "A = random_matrix(matrix_size, min_val, max_val)\n",
    "B = random_matrix(matrix_size, min_val, max_val)"
   ]
  },
  {
   "cell_type": "markdown",
   "metadata": {},
   "source": [
    "Standardowe mnożenie macierzy"
   ]
  },
  {
   "cell_type": "code",
   "execution_count": 142,
   "metadata": {},
   "outputs": [],
   "source": [
    "def standard_mlt(A, B):\n",
    "    \"\"\"Return tuple with mlt result and no_operations\"\"\"\n",
    "    operation_count = 0\n",
    "    plus_count = 0\n",
    "    mult_count = 0\n",
    "    result = np.zeros((len(A), len(B[0])), dtype=float)\n",
    "    for i in range(len(A)):\n",
    "        for j in range(len(B[0])):\n",
    "               for k in range(len(B)):\n",
    "                    result[i][j] += A[i][k] * B[k][j]\n",
    "                    plus_count += 1\n",
    "                    mult_count += 1\n",
    "                    operation_count += 2\n",
    "    return result, operation_count, plus_count, mult_count"
   ]
  },
  {
   "cell_type": "markdown",
   "metadata": {},
   "source": [
    "### 1. Rekurencyjne mnożenie macierzy metodą Binet`a (10 punktów)"
   ]
  },
  {
   "cell_type": "code",
   "execution_count": 143,
   "metadata": {},
   "outputs": [],
   "source": [
    "def binet_mlt(A, B):\n",
    "    global operation_count, plus_count, mult_count\n",
    "    \n",
    "    if len(A) != len(B):\n",
    "        print(\"ERROR: Wrong matrix dimensions!\")\n",
    "    elif len(A) == 2:\n",
    "        a00 = A[0,0]*B[0,0] + A[0,1]*B[1,0]\n",
    "        a01 = A[0,0]*B[0,1] + A[0,1]*B[1,1]\n",
    "        \n",
    "        a10 = A[1,0]*B[0,0] + A[1,1]*B[1,0]\n",
    "        a11 = A[1,0]*B[0,1] + A[1,1]*B[1,1]\n",
    "        \n",
    "        plus_count += 4\n",
    "        mult_count+= 8\n",
    "        operation_count += 12\n",
    "        return np.array([[a00,a01],\n",
    "                         [a10,a11]])\n",
    "    else:\n",
    "        matrix_size = len(A)\n",
    "        \n",
    "        A11 = A[:matrix_size//2, :matrix_size//2]\n",
    "        A12 = A[:matrix_size//2, matrix_size//2:]\n",
    "        A21 = A[matrix_size//2:, :matrix_size//2]\n",
    "        A22 = A[matrix_size//2:, matrix_size//2:]\n",
    "\n",
    "        B11 = B[:matrix_size//2, :matrix_size//2]\n",
    "        B12 = B[:matrix_size//2, matrix_size//2:]\n",
    "        B21 = B[matrix_size//2:, :matrix_size//2]\n",
    "        B22 = B[matrix_size//2:, matrix_size//2:]\n",
    "        \n",
    "        C11 = binet_mlt(A11, B11) + binet_mlt(A12, B21)\n",
    "        C12 = binet_mlt(A11, B12) + binet_mlt(A12, B22)\n",
    "        C21 = binet_mlt(A21, B11) + binet_mlt(A22, B21)\n",
    "        C22 = binet_mlt(A21, B12) + binet_mlt(A22, B22)\n",
    "        plus_count += 4*(len(C11)**2)\n",
    "        \n",
    "        operation_count += plus_count\n",
    "        \n",
    "        result = np.empty((matrix_size, matrix_size))\n",
    "        result[:matrix_size // 2, :matrix_size // 2] = C11\n",
    "        result[:matrix_size // 2, matrix_size // 2:] = C12\n",
    "        result[matrix_size // 2:, :matrix_size // 2] = C21\n",
    "        result[matrix_size // 2:, matrix_size // 2:] = C22\n",
    "        \n",
    "        return result"
   ]
  },
  {
   "cell_type": "code",
   "execution_count": 144,
   "metadata": {},
   "outputs": [
    {
     "name": "stdout",
     "output_type": "stream",
     "text": [
      "Matrix size: 2**8\n",
      "Is correct?: True\n",
      "Number of operations: 2944 448 512\n",
      "Number of operations (Standard mlt): 1024\n"
     ]
    }
   ],
   "source": [
    "operation_count = 0\n",
    "plus_count = 0\n",
    "mult_count = 0\n",
    "res = binet_mlt(A, B)\n",
    "\n",
    "print(f\"Matrix size: 2**{exp}\")\n",
    "print(\"Is correct?:\", np.allclose(res, A@B))\n",
    "print(\"Number of operations:\", operation_count, plus_count, mult_count)\n",
    "print(\"Number of operations (Standard mlt):\", standard_mlt(A, B)[1])\n",
    "# print(\"Result:\", res, sep='\\n')"
   ]
  },
  {
   "cell_type": "markdown",
   "metadata": {},
   "source": [
    "### 2. Rekurencyjne mnożenie macierzy metodą Strassena (10 punktów)"
   ]
  },
  {
   "cell_type": "code",
   "execution_count": 153,
   "metadata": {},
   "outputs": [],
   "source": [
    "def strassen_mlt(A,B):\n",
    "    global operation_count, plus_count, mult_count\n",
    "\n",
    "    n = len(A)\n",
    "    \n",
    "    if(n==2):\n",
    "        A11 = A[0,0]\n",
    "        B11 = B[0,0]\n",
    "\n",
    "        A12 = A[0,1]\n",
    "        B12 = B[0,1]\n",
    "\n",
    "        A21 = A[1,0]\n",
    "        B21 = B[1,0]\n",
    "\n",
    "        A22 = A[1,1]\n",
    "        B22 = B[1,1]\n",
    "        \n",
    "        P1 = (A11 + A22)*(B11 + B22)\n",
    "        P2 = (A21 + A22)*B11\n",
    "        P3 = A11*(B12 - B22)\n",
    "        P4 = A22*(B21 - B11)\n",
    "        P5 = (A11 + A12)*B22\n",
    "        P6 = (A21 - A11)*(B11 + B12)\n",
    "        P7 = (A12 - A22)*(B21 + B22)\n",
    "        \n",
    "        C11 = (P1 + P4 - P5 + P7)\n",
    "        C12 = (P3 + P5)\n",
    "        C21 = (P2 + P4)\n",
    "        C22 = (P1 - P2 + P3 + P6)\n",
    "        result = np.empty((n, n))\n",
    "        result[:n // 2, :n // 2] = C11\n",
    "        result[:n // 2, n // 2:] = C12\n",
    "        result[n // 2:, :n // 2] = C21\n",
    "        result[n // 2:, n // 2:] = C22\n",
    "        \n",
    "        plus_count += 18\n",
    "        mult_count += 7\n",
    "        \n",
    "        return result\n",
    "        \n",
    "    A11 = A[:n//2, :n//2]\n",
    "    B11 = B[:n//2, :n//2]\n",
    "\n",
    "    A12 = A[:n//2, (n//2):]\n",
    "    B12 = B[:n//2, (n//2):]\n",
    "\n",
    "    A21 = A[(n//2): , :n//2]\n",
    "    B21 = B[(n//2): , :n//2]\n",
    "\n",
    "    A22 = A[(n//2): , (n//2):]\n",
    "    B22 = B[(n//2): , (n//2):]\n",
    "    \n",
    "\n",
    "    P1 = strassen_mlt((A11 + A22), (B11 + B22))\n",
    "    P2 = strassen_mlt((A21 + A22), B11)\n",
    "    P3 = strassen_mlt(A11, (B12 - B22))\n",
    "    P4 = strassen_mlt(A22, (B21 - B11))\n",
    "    P5 = strassen_mlt((A11 + A12), B22)\n",
    "    P6 = strassen_mlt((A21 - A11), (B11 + B12))\n",
    "    P7 = strassen_mlt((A12 - A22), (B21 + B22))\n",
    "    \n",
    "    C11 = (P1 + P4 - P5 + P7)\n",
    "    C12 = (P3 + P5)\n",
    "    C21 = (P2 + P4)\n",
    "    C22 = (P1 - P2 + P3 + P6)\n",
    "    \n",
    "    plus_count += 18 * len(P1)**2\n",
    "    operation_count += 18 * len(P1)**2\n",
    "    \n",
    "    '''top_row = np.hstack((C11, C12))\n",
    "    bottom_row = np.hstack((C21, C22))\n",
    "    result = np.vstack((top_row, bottom_row))'''\n",
    "\n",
    "    result = np.empty((n, n))\n",
    "    result[:n // 2, :n // 2] = C11\n",
    "    result[:n // 2, n // 2:] = C12\n",
    "    result[n // 2:, :n // 2] = C21\n",
    "    result[n // 2:, n // 2:] = C22\n",
    "    \n",
    "    return result"
   ]
  },
  {
   "cell_type": "code",
   "execution_count": 154,
   "metadata": {},
   "outputs": [
    {
     "name": "stdout",
     "output_type": "stream",
     "text": [
      "Matrix size: 2**8\n",
      "Is correct?: True\n",
      "Number of operations: 792 343 1674\n",
      "Number of operations (Standard mlt): 1024\n"
     ]
    }
   ],
   "source": [
    "operation_count = 0\n",
    "plus_count = 0\n",
    "mult_count = 0\n",
    "res = strassen_mlt(A, B)\n",
    "\n",
    "print(f\"Matrix size: 2**{exp}\")\n",
    "print(\"Is correct?:\", np.allclose(res, A@B))\n",
    "print(\"Number of operations:\", operation_count, mult_count, plus_count)\n",
    "print(\"Number of operations (Standard mlt):\", standard_mlt(A, B)[1])\n",
    "# print(\"Result:\", res, sep='\\n')"
   ]
  },
  {
   "cell_type": "markdown",
   "metadata": {},
   "source": [
    "### 3. Mnożenie macierzy metodą znalezioną przez sztuczną inteligencję (10 punktów)"
   ]
  },
  {
   "cell_type": "code",
   "execution_count": 127,
   "metadata": {
    "scrolled": false
   },
   "outputs": [],
   "source": [
    "filename = \"factorizations_r.npz\"\n",
    "with open(filename, 'rb') as f:\n",
    "    factorizations = dict(np.load(f, allow_pickle=True))"
   ]
  },
  {
   "cell_type": "code",
   "execution_count": 128,
   "metadata": {
    "scrolled": false
   },
   "outputs": [
    {
     "name": "stdout",
     "output_type": "stream",
     "text": [
      "2,2,2: rank=7\n",
      "2,2,3: rank=11\n",
      "2,2,4: rank=14\n",
      "2,2,5: rank=18\n",
      "2,2,6: rank=21\n",
      "2,2,7: rank=25\n",
      "2,2,8: rank=28\n",
      "2,3,3: rank=15\n",
      "2,3,4: rank=20\n",
      "2,3,5: rank=25\n",
      "2,4,4: rank=26\n",
      "2,4,5: rank=33\n",
      "2,5,5: rank=40\n",
      "3,3,3: rank=23\n",
      "3,3,4: rank=29\n",
      "3,3,5: rank=36\n",
      "3,4,4: rank=38\n",
      "3,4,5: rank=47\n",
      "3,4,11: rank=103\n",
      "3,5,5: rank=58\n",
      "3,5,9: rank=105\n",
      "3,9,11: rank=225\n",
      "4,4,4: rank=49\n",
      "4,4,5: rank=63\n",
      "4,5,5: rank=76\n",
      "4,5,9: rank=139\n",
      "4,5,10: rank=152\n",
      "4,5,11: rank=169\n",
      "4,9,10: rank=255\n",
      "4,9,11: rank=280\n",
      "4,11,11: rank=343\n",
      "4,11,12: rank=366\n",
      "5,5,5: rank=98\n",
      "5,5,7: rank=134\n",
      "5,7,9: rank=234\n",
      "5,7,10: rank=257\n",
      "5,7,11: rank=280\n",
      "5,8,9: rank=262\n",
      "5,8,10: rank=287\n",
      "5,8,11: rank=317\n",
      "5,9,9: rank=296\n",
      "5,9,10: rank=323\n",
      "5,9,11: rank=358\n",
      "5,9,12: rank=381\n",
      "6,7,9: rank=270\n",
      "6,7,10: rank=296\n",
      "6,7,11: rank=322\n",
      "6,8,10: rank=329\n",
      "6,8,11: rank=365\n",
      "6,9,9: rank=342\n",
      "6,9,10: rank=373\n",
      "6,9,11: rank=411\n",
      "7,7,9: rank=318\n",
      "7,7,10: rank=350\n",
      "7,7,11: rank=384\n",
      "7,8,9: rank=354\n",
      "7,8,10: rank=393\n",
      "7,8,11: rank=432\n",
      "7,8,12: rank=462\n",
      "7,9,9: rank=399\n",
      "7,9,10: rank=441\n",
      "7,9,11: rank=481\n",
      "7,9,12: rank=510\n",
      "7,10,10: rank=478\n",
      "7,10,11: rank=536\n",
      "7,11,11: rank=582\n",
      "8,8,10: rank=441\n",
      "8,8,11: rank=489\n",
      "8,9,10: rank=489\n",
      "8,9,11: rank=533\n",
      "8,9,12: rank=560\n",
      "8,10,10: rank=532\n",
      "8,10,11: rank=596\n",
      "8,10,12: rank=636\n",
      "8,11,11: rank=649\n",
      "8,11,12: rank=691\n",
      "9,9,9: rank=498\n",
      "9,9,10: rank=534\n",
      "9,9,11: rank=576\n",
      "9,10,10: rank=606\n",
      "9,10,11: rank=657\n",
      "9,10,12: rank=696\n",
      "9,11,11: rank=725\n",
      "9,11,12: rank=760\n",
      "10,10,10: rank=682\n",
      "10,10,11: rank=746\n",
      "10,10,12: rank=798\n",
      "10,11,11: rank=821\n",
      "10,11,12: rank=874\n",
      "10,12,12: rank=928\n",
      "11,11,11: rank=896\n",
      "11,11,12: rank=941\n",
      "11,12,12: rank=990\n"
     ]
    }
   ],
   "source": [
    "for key in factorizations:\n",
    "    u, v, w = factorizations[key]\n",
    "    rank = u.shape[-1]\n",
    "    assert rank == v.shape[-1] and rank == w.shape[-1]\n",
    "    print(f'{key}: rank={u.shape[-1]}')"
   ]
  },
  {
   "cell_type": "code",
   "execution_count": 129,
   "metadata": {},
   "outputs": [
    {
     "name": "stdout",
     "output_type": "stream",
     "text": [
      "[ 0  0  0 -1 -1 -1  0  0 -1  0  0  0  1  0  1  0  0  0  0  0  0  0  0  1\n",
      "  1  0  1  0  0  0  0  0  0  0  0  0  1  0  0  0  0  0  0  0  0  0 -1  0\n",
      "  0  0  0  0  0  0  0  0  0  0  0  0  0  0  0  0  0  0  0  0  0  0  0  0\n",
      "  0  0  0  0]\n"
     ]
    }
   ],
   "source": [
    "print(factorizations['4,5,5'][2][0])"
   ]
  },
  {
   "cell_type": "markdown",
   "metadata": {},
   "source": [
    "![Example](https://www.furidamu.org/images/2022-10-04-alphatensor/strassen.webp)"
   ]
  },
  {
   "cell_type": "code",
   "execution_count": 130,
   "metadata": {},
   "outputs": [],
   "source": [
    "# (4x5)*(5x5)=(4x5)\n",
    "# https://www.nature.com/articles/s41586-022-05172-4\n",
    "\n",
    "#naprawione ale nie wiem czego to dziala\n",
    "def ai_mlt(A,B, factor):\n",
    "    '''\n",
    "    do mnożenia macierzy (4^n x 5^n)*(5^n x 5^n)\n",
    "    factor[0] - do macierzy A\n",
    "    factor[1] - do macierzy B\n",
    "    factor[2] - do macierzy C\n",
    "    \n",
    "    factor[0] i factor[1] - macierze o rozmiarze (n*m)x(ilość mnożeń), każda kolumna oznacza które elementy\n",
    "    i z jakim współczynnikiem biorę do którejś z sum w danym mnożeniu (sum_A)*(sum_B) = m_i, wiersz o danym numerze\n",
    "    odpowiada w macierzy A lub B elementowi który miałby ten sam indeks po zlinearyzowaniu macierzy\n",
    "    \n",
    "    factor[2] - (n*m)x(ilość mnożeń), podobnie jak wyżej ale tutaj wiersze oznaczają które z wcześniej policzonych wyników \n",
    "    mnożeń składają się na wynik w danym fragmencie macierzy.\n",
    "    \n",
    "    Na obrazku wyżej fajnie widać jak to mniej więcej działa, u= factor[0], v = factor[1] i w = factor[2]\n",
    "\n",
    "    '''\n",
    "    global operation_count, plus_count, mult_count\n",
    "    if A.shape == (4,5) and B.shape == (5,5):\n",
    "        result = np.zeros((4,5), dtype=float)\n",
    "        for i in range(len(A)):\n",
    "            for j in range(len(B[0])):\n",
    "                   for k in range(len(B)):\n",
    "                        result[i][j] += A[i][k] * B[k][j]\n",
    "                        #plus_count += 1\n",
    "                        #mult_count += 1\n",
    "        \n",
    "        mult_count += 76\n",
    "        plus_count += 539 #teoretycznie tyle by zajelo gdyby przepisac to wszystko z dolu i zamienic mnozenia\n",
    "        #macierzy na zwykle\n",
    "        return result\n",
    "\n",
    "    \n",
    "    \n",
    "    \n",
    "    n = len(A)//4\n",
    "    m = len(A[0])//5\n",
    "    k = len(B[0])//5\n",
    "    \n",
    "    \n",
    "    t1 = factor[0]\n",
    "    t2 = factor[1]\n",
    "    t3 = factor[2]\n",
    "    \n",
    "    mul_len = t1.shape[1]\n",
    "    \n",
    "    mtab = [None for _ in range(mul_len)]\n",
    "    for i in range(mul_len):\n",
    "        A_elements = t1[:, i]\n",
    "        B_elements = t2[:, i]\n",
    "        \n",
    "        A_factor = np.zeros((n,m), dtype = float)\n",
    "        for j in range(len(A_elements)):\n",
    "            if A_elements[j] != 0:\n",
    "                x,y = np.unravel_index(j, (4,5))\n",
    "                A_factor += A[x*n:(x+1)*n, y*m: (y+1)*m]*A_elements[j]\n",
    "                \n",
    "                plus_count += len(A_factor[0])*len(A_factor)\n",
    "                operation_count += len(A_factor)*len(A_factor[0])\n",
    "        \n",
    "        B_factor = np.zeros((k,k), dtype = float)\n",
    "        for j in range(len(B_elements)):\n",
    "            if B_elements[j] != 0:\n",
    "                x,y = np.unravel_index(j, (5,5))\n",
    "                B_factor += B[x*k:(x+1)*k, y*k: (y+1)*k]*B_elements[j]\n",
    "                \n",
    "                plus_count += len(B_factor)**2\n",
    "                operation_count += len(B_factor)**2\n",
    "        \n",
    "        m_res = ai_mlt(A_factor, B_factor, factor)\n",
    "        #operation_count += 1\n",
    "        mtab[i] = m_res\n",
    "    \n",
    "    #temp_res = A@B\n",
    "    res_matrix = np.zeros((n*4,m*5), dtype = float)\n",
    "    \n",
    "    xind = 0\n",
    "    yind = 0\n",
    "    for i in range(t3.shape[0]):\n",
    "        x,y = np.unravel_index(i, (4,5))\n",
    "        res_fragment = np.zeros((n,m), dtype = float)\n",
    "        C_elements = t3[i, :]\n",
    "        for j in range(len(C_elements)):\n",
    "            if C_elements[j] != 0:\n",
    "                res_fragment += mtab[j]*C_elements[j]\n",
    "                \n",
    "                plus_count += n*m\n",
    "        \n",
    "        if xind >= 4:  \n",
    "            yind+=1\n",
    "            xind=0\n",
    "        \n",
    "        res_matrix[xind*n:(xind+1)*n, yind*m: (yind+1)*m] = res_fragment\n",
    "        \n",
    "        xind+=1\n",
    "        \n",
    "    return res_matrix\n",
    "        \n",
    "        \n",
    "            \n",
    "        \n",
    "        "
   ]
  },
  {
   "cell_type": "code",
   "execution_count": 131,
   "metadata": {
    "scrolled": false
   },
   "outputs": [
    {
     "name": "stdout",
     "output_type": "stream",
     "text": [
      "1163670 2000000 -836330 4660934 1000000 1000000 438976\n",
      "438976 1000000\n",
      "4660934 1000000\n",
      "(64, 125) (125, 125)\n"
     ]
    }
   ],
   "source": [
    "a1 = random_matrix((4**3,5**3), 0, 1)\n",
    "a2 = random_matrix((5**3,5**3), 0, 1)\n",
    "operation_count = 0\n",
    "plus_count = 0\n",
    "mult_count = 0\n",
    "\n",
    "r1 = ai_mlt(a1, a2, factorizations['4,5,5'])\n",
    "r2, op, p, m = standard_mlt(a1,a2)\n",
    "print(operation_count, op, operation_count - op, plus_count,p,m, mult_count)\n",
    "print(mult_count, m)\n",
    "print(plus_count, p)\n",
    "print(a1.shape, a2.shape)"
   ]
  },
  {
   "cell_type": "code",
   "execution_count": 132,
   "metadata": {
    "scrolled": false
   },
   "outputs": [
    {
     "name": "stdout",
     "output_type": "stream",
     "text": [
      "[[29.1727544  31.45372158 28.61819642 ... 32.59807117 28.0514108\n",
      "  31.58562385]\n",
      " [27.74330861 32.13247863 27.27617025 ... 29.43160426 27.40527411\n",
      "  30.79677165]\n",
      " [31.82649577 34.38894599 30.8337526  ... 33.58170941 32.65786846\n",
      "  37.71825489]\n",
      " ...\n",
      " [28.80852631 32.64247419 26.42997603 ... 28.99615376 27.19061016\n",
      "  32.13459779]\n",
      " [28.33324164 31.04807281 29.15001145 ... 29.21628381 29.32838384\n",
      "  31.48105832]\n",
      " [31.35663033 33.63898664 30.82368702 ... 33.13577695 31.85212487\n",
      "  36.10049897]]\n"
     ]
    }
   ],
   "source": [
    "print(r1)"
   ]
  },
  {
   "cell_type": "code",
   "execution_count": 133,
   "metadata": {},
   "outputs": [
    {
     "name": "stdout",
     "output_type": "stream",
     "text": [
      "[[29.1727544  31.45372158 28.61819642 ... 32.59807117 28.0514108\n",
      "  31.58562385]\n",
      " [27.74330861 32.13247863 27.27617025 ... 29.43160426 27.40527411\n",
      "  30.79677165]\n",
      " [31.82649577 34.38894599 30.8337526  ... 33.58170941 32.65786846\n",
      "  37.71825489]\n",
      " ...\n",
      " [28.80852631 32.64247419 26.42997603 ... 28.99615376 27.19061016\n",
      "  32.13459779]\n",
      " [28.33324164 31.04807281 29.15001145 ... 29.21628381 29.32838384\n",
      "  31.48105832]\n",
      " [31.35663033 33.63898664 30.82368702 ... 33.13577695 31.85212487\n",
      "  36.10049897]]\n"
     ]
    }
   ],
   "source": [
    "print((a1@a2))"
   ]
  },
  {
   "cell_type": "code",
   "execution_count": 134,
   "metadata": {
    "scrolled": false
   },
   "outputs": [
    {
     "name": "stdout",
     "output_type": "stream",
     "text": [
      "[[29.1727544  31.45372158 28.61819642 29.53394505 30.95534819]\n",
      " [27.74330861 32.13247863 27.27617025 29.22676444 31.50990406]\n",
      " [31.82649577 34.38894599 30.8337526  33.41724337 34.92956274]\n",
      " [29.05598904 28.95961195 26.80334855 29.49845809 29.60212936]]\n",
      "------\n",
      "[[29.1727544  31.45372158 28.61819642 29.53394505 30.95534819]\n",
      " [27.74330861 32.13247863 27.27617025 29.22676444 31.50990406]\n",
      " [31.82649577 34.38894599 30.8337526  33.41724337 34.92956274]\n",
      " [29.05598904 28.95961195 26.80334855 29.49845809 29.60212936]]\n",
      "True 0 0\n",
      "\n",
      "\n",
      "\n",
      "[[28.221166   30.81744609 35.00206652 28.35388553 30.99471682]\n",
      " [28.92536427 30.12836289 33.67319396 27.71498254 30.17802729]\n",
      " [31.80712695 34.47044487 36.00039104 30.85707478 35.1322883 ]\n",
      " [27.64310494 30.00680459 32.03757567 27.5501839  32.88063307]]\n",
      "------\n",
      "[[28.221166   30.81744609 35.00206652 28.35388553 30.99471682]\n",
      " [28.92536427 30.12836289 33.67319396 27.71498254 30.17802729]\n",
      " [31.80712695 34.47044487 36.00039104 30.85707478 35.1322883 ]\n",
      " [27.64310494 30.00680459 32.03757567 27.5501839  32.88063307]]\n",
      "True 0 1\n",
      "\n",
      "\n",
      "\n",
      "[[29.6165926  30.18638597 27.37877422 31.52784095 31.45446292]\n",
      " [29.062084   28.44508661 28.19939363 31.01344269 30.4547426 ]\n",
      " [33.84011576 31.64438375 30.81030462 37.02274248 34.72644003]\n",
      " [27.21582033 27.4649987  27.63919124 31.40634357 29.39665173]]\n",
      "------\n",
      "[[29.6165926  30.18638597 27.37877422 31.52784095 31.45446292]\n",
      " [29.062084   28.44508661 28.19939363 31.01344269 30.4547426 ]\n",
      " [33.84011576 31.64438375 30.81030462 37.02274248 34.72644003]\n",
      " [27.21582033 27.4649987  27.63919124 31.40634357 29.39665173]]\n",
      "True 0 2\n",
      "\n",
      "\n",
      "\n",
      "[[29.67493938 30.3906521  27.07628971 27.42018206 29.33796484]\n",
      " [29.14440336 28.85426017 27.97907992 25.89318813 27.16488232]\n",
      " [33.54964827 32.92001158 33.74648401 29.68721354 32.7088519 ]\n",
      " [28.89191565 29.08307822 27.09113135 24.82506257 26.864163  ]]\n",
      "------\n",
      "[[29.67493938 30.3906521  27.07628971 27.42018206 29.33796484]\n",
      " [29.14440336 28.85426017 27.97907992 25.89318813 27.16488232]\n",
      " [33.54964827 32.92001158 33.74648401 29.68721354 32.7088519 ]\n",
      " [28.89191565 29.08307822 27.09113135 24.82506257 26.864163  ]]\n",
      "True 0 3\n",
      "\n",
      "\n",
      "\n",
      "[[31.71698427 28.91762635 30.40958248 27.24989603 30.45327531]\n",
      " [28.50555066 29.566492   30.980755   26.17086798 30.32979327]\n",
      " [34.15104155 34.44402748 34.82862524 31.34882243 33.8148836 ]\n",
      " [27.50784    28.37229762 28.75239203 27.29510108 29.15153001]]\n",
      "------\n",
      "[[31.71698427 28.91762635 30.40958248 27.24989603 30.45327531]\n",
      " [28.50555066 29.566492   30.980755   26.17086798 30.32979327]\n",
      " [34.15104155 34.44402748 34.82862524 31.34882243 33.8148836 ]\n",
      " [27.50784    28.37229762 28.75239203 27.29510108 29.15153001]]\n",
      "True 0 4\n",
      "\n",
      "\n",
      "\n",
      "[[26.02143464 29.3479525  28.17011256 28.96988987 29.06446746]\n",
      " [26.82949363 29.43260376 25.39777218 27.32457166 27.84550073]\n",
      " [31.81896869 34.91720615 29.28920889 33.57766855 34.28486628]\n",
      " [29.30603637 31.46227369 28.91117923 32.54070369 31.33652061]]\n",
      "------\n",
      "[[26.02143464 29.3479525  28.17011256 28.96988987 29.06446746]\n",
      " [26.82949363 29.43260376 25.39777218 27.32457166 27.84550073]\n",
      " [31.81896869 34.91720615 29.28920889 33.57766855 34.28486628]\n",
      " [29.30603637 31.46227369 28.91117923 32.54070369 31.33652061]]\n",
      "True 1 0\n",
      "\n",
      "\n",
      "\n",
      "[[26.90399403 27.92128028 33.16854657 26.53003298 29.12156937]\n",
      " [25.8674552  27.10863523 30.14915337 25.62567117 27.96946785]\n",
      " [31.61964217 34.43109782 36.11408605 30.19233736 34.71069055]\n",
      " [27.51044763 32.10864635 33.88833536 26.51218022 32.73900243]]\n",
      "------\n",
      "[[26.90399403 27.92128028 33.16854657 26.53003298 29.12156937]\n",
      " [25.8674552  27.10863523 30.14915337 25.62567117 27.96946785]\n",
      " [31.61964217 34.43109782 36.11408605 30.19233736 34.71069055]\n",
      " [27.51044763 32.10864635 33.88833536 26.51218022 32.73900243]]\n",
      "True 1 1\n",
      "\n",
      "\n",
      "\n",
      "[[28.50331174 28.78073532 28.86817298 29.62911737 28.55703396]\n",
      " [23.75960698 26.64461277 25.2577859  28.67938948 29.67332158]\n",
      " [31.50647013 31.3132594  29.62820699 36.43628875 34.24228151]\n",
      " [31.36101079 29.93558422 28.5449481  34.28167935 29.41284134]]\n",
      "------\n",
      "[[28.50331174 28.78073532 28.86817298 29.62911737 28.55703396]\n",
      " [23.75960698 26.64461277 25.2577859  28.67938948 29.67332158]\n",
      " [31.50647013 31.3132594  29.62820699 36.43628875 34.24228151]\n",
      " [31.36101079 29.93558422 28.5449481  34.28167935 29.41284134]]\n",
      "True 1 2\n",
      "\n",
      "\n",
      "\n",
      "[[27.6913295  27.958965   28.26254867 25.82833934 26.65527392]\n",
      " [27.33569919 27.89974544 27.36645441 23.68623698 25.24454766]\n",
      " [32.91447194 33.0762304  29.31833884 29.7166666  29.93019633]\n",
      " [28.49777101 30.23340088 29.75757296 26.82816527 30.27936463]]\n",
      "------\n",
      "[[27.6913295  27.958965   28.26254867 25.82833934 26.65527392]\n",
      " [27.33569919 27.89974544 27.36645441 23.68623698 25.24454766]\n",
      " [32.91447194 33.0762304  29.31833884 29.7166666  29.93019633]\n",
      " [28.49777101 30.23340088 29.75757296 26.82816527 30.27936463]]\n",
      "True 1 3\n",
      "\n",
      "\n",
      "\n",
      "[[30.82669235 30.41230141 31.0550229  25.57012061 30.38192942]\n",
      " [26.67654687 28.88249483 27.98255578 26.01116264 27.99076008]\n",
      " [33.07919723 33.65537881 34.0015767  30.86922041 32.23743614]\n",
      " [31.3115604  30.00837579 32.9987212  28.54822674 31.68177035]]\n",
      "------\n",
      "[[30.82669235 30.41230141 31.0550229  25.57012061 30.38192942]\n",
      " [26.67654687 28.88249483 27.98255578 26.01116264 27.99076008]\n",
      " [33.07919723 33.65537881 34.0015767  30.86922041 32.23743614]\n",
      " [31.3115604  30.00837579 32.9987212  28.54822674 31.68177035]]\n",
      "True 1 4\n",
      "\n",
      "\n",
      "\n",
      "[[29.3644333  31.71339016 27.74878049 28.93162594 30.80462389]\n",
      " [29.89475002 31.70883862 29.38857318 32.61098128 30.64925815]\n",
      " [28.07877625 30.00616784 27.56680027 29.3721957  30.08878957]\n",
      " [33.35087865 35.9091758  33.62579567 34.06452167 35.38007874]]\n",
      "------\n",
      "[[29.3644333  31.71339016 27.74878049 28.93162594 30.80462389]\n",
      " [29.89475002 31.70883862 29.38857318 32.61098128 30.64925815]\n",
      " [28.07877625 30.00616784 27.56680027 29.3721957  30.08878957]\n",
      " [33.35087865 35.9091758  33.62579567 34.06452167 35.38007874]]\n",
      "True 2 0\n",
      "\n",
      "\n",
      "\n",
      "[[26.66884781 31.75234517 32.74367243 28.85339004 33.54072328]\n",
      " [28.45532546 32.09897078 33.31484934 28.16428232 33.58626065]\n",
      " [28.42614052 31.23145435 34.1156453  28.3749573  31.13668889]\n",
      " [29.97241706 34.96089373 37.01085423 32.6395538  34.85003937]]\n",
      "------\n",
      "[[26.66884781 31.75234517 32.74367243 28.85339004 33.54072328]\n",
      " [28.45532546 32.09897078 33.31484934 28.16428232 33.58626065]\n",
      " [28.42614052 31.23145435 34.1156453  28.3749573  31.13668889]\n",
      " [29.97241706 34.96089373 37.01085423 32.6395538  34.85003937]]\n",
      "True 2 1\n",
      "\n",
      "\n",
      "\n",
      "[[28.10118056 28.64749305 28.50059725 32.57399492 30.72600627]\n",
      " [29.52491664 29.78766182 29.42112452 32.14932075 30.40867565]\n",
      " [30.01334706 29.62969586 27.85482243 32.613843   31.57650264]\n",
      " [33.2506753  32.94848003 32.24099607 35.58370559 35.08908161]]\n",
      "------\n",
      "[[28.10118056 28.64749305 28.50059725 32.57399492 30.72600627]\n",
      " [29.52491664 29.78766182 29.42112452 32.14932075 30.40867565]\n",
      " [30.01334706 29.62969586 27.85482243 32.613843   31.57650264]\n",
      " [33.2506753  32.94848003 32.24099607 35.58370559 35.08908161]]\n",
      "True 2 2\n",
      "\n",
      "\n",
      "\n",
      "[[29.23377738 28.23187288 30.20679467 25.76824716 26.80614979]\n",
      " [31.07913386 30.60461047 30.35501101 26.78725155 28.78829185]\n",
      " [29.04826581 29.25063647 30.36893332 28.34526902 28.16232964]\n",
      " [34.55674476 33.7520163  32.64950882 30.69991911 30.99172798]]\n",
      "------\n",
      "[[29.23377738 28.23187288 30.20679467 25.76824716 26.80614979]\n",
      " [31.07913386 30.60461047 30.35501101 26.78725155 28.78829185]\n",
      " [29.04826581 29.25063647 30.36893332 28.34526902 28.16232964]\n",
      " [34.55674476 33.7520163  32.64950882 30.69991911 30.99172798]]\n",
      "True 2 3\n",
      "\n",
      "\n",
      "\n",
      "[[30.16156453 31.95104834 32.07239686 26.79293243 31.48772329]\n",
      " [31.36114956 28.70250951 31.22096528 29.15863901 31.08104497]\n",
      " [31.26599404 30.38524689 30.03843208 27.04394842 30.34155539]\n",
      " [33.89558741 34.26243919 35.88054858 31.60177929 35.94951881]]\n",
      "------\n",
      "[[30.16156453 31.95104834 32.07239686 26.79293243 31.48772329]\n",
      " [31.36114956 28.70250951 31.22096528 29.15863901 31.08104497]\n",
      " [31.26599404 30.38524689 30.03843208 27.04394842 30.34155539]\n",
      " [33.89558741 34.26243919 35.88054858 31.60177929 35.94951881]]\n",
      "True 2 4\n",
      "\n",
      "\n",
      "\n",
      "[[32.54975785 36.84250619 32.73456436 35.26337808 36.3255491 ]\n",
      " [31.61339275 36.29160008 30.36457109 32.95692107 34.12406541]\n",
      " [27.23966389 28.47812766 27.1984373  31.11016289 31.47768533]\n",
      " [30.77077942 33.30066033 30.38962123 32.10248204 32.80051995]]\n",
      "------\n",
      "[[32.54975785 36.84250619 32.73456436 35.26337808 36.3255491 ]\n",
      " [31.61339275 36.29160008 30.36457109 32.95692107 34.12406541]\n",
      " [27.23966389 28.47812766 27.1984373  31.11016289 31.47768533]\n",
      " [30.77077942 33.30066033 30.38962123 32.10248204 32.80051995]]\n",
      "True 3 0\n",
      "\n",
      "\n",
      "\n",
      "[[30.45095284 33.89758799 37.82962672 30.45405904 37.65623041]\n",
      " [31.21371817 34.37431651 36.05573147 30.81874714 33.9663509 ]\n",
      " [25.27865217 28.4235394  32.80309544 27.61476799 30.95247705]\n",
      " [29.78632307 31.52692058 35.68922294 28.64115663 32.75906639]]\n",
      "------\n",
      "[[30.45095284 33.89758799 37.82962672 30.45405904 37.65623041]\n",
      " [31.21371817 34.37431651 36.05573147 30.81874714 33.9663509 ]\n",
      " [25.27865217 28.4235394  32.80309544 27.61476799 30.95247705]\n",
      " [29.78632307 31.52692058 35.68922294 28.64115663 32.75906639]]\n",
      "True 3 1\n",
      "\n",
      "\n",
      "\n",
      "[[33.67179555 31.67942083 32.36224794 35.08473142 33.38165242]\n",
      " [31.8179476  32.28281156 30.17016793 32.55688068 32.23000894]\n",
      " [28.64486357 27.68356417 26.84594939 31.48791076 30.42203344]\n",
      " [29.44433861 31.57232478 30.63599226 32.75746016 30.73459876]]\n",
      "------\n",
      "[[33.67179555 31.67942083 32.36224794 35.08473142 33.38165242]\n",
      " [31.8179476  32.28281156 30.17016793 32.55688068 32.23000894]\n",
      " [28.64486357 27.68356417 26.84594939 31.48791076 30.42203344]\n",
      " [29.44433861 31.57232478 30.63599226 32.75746016 30.73459876]]\n",
      "True 3 2\n",
      "\n",
      "\n",
      "\n",
      "[[32.66551611 33.73862978 35.35155094 28.2260711  32.12437654]\n",
      " [31.95513272 33.05844128 31.69514063 28.9442701  29.47135022]\n",
      " [27.21361175 29.76294203 27.64017403 25.19533934 27.2134041 ]\n",
      " [31.28885371 31.05886676 29.59597396 29.22714855 30.0857305 ]]\n",
      "------\n",
      "[[32.66551611 33.73862978 35.35155094 28.2260711  32.12437654]\n",
      " [31.95513272 33.05844128 31.69514063 28.9442701  29.47135022]\n",
      " [27.21361175 29.76294203 27.64017403 25.19533934 27.2134041 ]\n",
      " [31.28885371 31.05886676 29.59597396 29.22714855 30.0857305 ]]\n",
      "True 3 3\n",
      "\n",
      "\n",
      "\n",
      "[[34.99033895 33.6006789  35.21639973 31.35789194 35.75055316]\n",
      " [32.12411444 32.27747431 31.96651599 32.2478164  32.25956483]\n",
      " [30.53050585 29.14270484 28.90533736 26.80922288 30.64923418]\n",
      " [32.53471215 31.60218052 32.06229183 28.96214753 33.50629464]]\n",
      "------\n",
      "[[34.99033895 33.6006789  35.21639973 31.35789194 35.75055316]\n",
      " [32.12411444 32.27747431 31.96651599 32.2478164  32.25956483]\n",
      " [30.53050585 29.14270484 28.90533736 26.80922288 30.64923418]\n",
      " [32.53471215 31.60218052 32.06229183 28.96214753 33.50629464]]\n",
      "True 3 4\n",
      "\n",
      "\n",
      "\n"
     ]
    }
   ],
   "source": [
    "def exists(a, b, block):\n",
    "    for x in range(4):\n",
    "        for y in range(5):\n",
    "            mb = b[x*n:(x+1)*n, y*m: (y+1)*m]\n",
    "            if np.allclose(mb, block):\n",
    "                return True, x, y\n",
    "            \n",
    "r2 = a1@a2\n",
    "\n",
    "n = 4\n",
    "m = 5\n",
    "\n",
    "for x in range(4):\n",
    "    for y in range(5):\n",
    "        mb = r2[x*n:(x+1)*n, y*m: (y+1)*m]\n",
    "        ma = r1[x*n:(x+1)*n, y*m: (y+1)*m]\n",
    "        print(ma)\n",
    "        print(\"------\")\n",
    "        print(mb)\n",
    "        print(np.allclose(ma, mb), x, y)\n",
    "        if not np.allclose(ma, mb):\n",
    "            print(exists(r1, r2, ma))\n",
    "        print(\"\\n\\n\")"
   ]
  },
  {
   "cell_type": "code",
   "execution_count": 17,
   "metadata": {},
   "outputs": [
    {
     "name": "stdout",
     "output_type": "stream",
     "text": [
      "True\n"
     ]
    }
   ],
   "source": [
    "print(np.allclose(r1,r2))"
   ]
  },
  {
   "cell_type": "markdown",
   "metadata": {},
   "source": [
    "### Testy"
   ]
  },
  {
   "cell_type": "code",
   "execution_count": 275,
   "metadata": {},
   "outputs": [],
   "source": [
    "exponents = [2**i for i in range(1,10)]"
   ]
  },
  {
   "cell_type": "code",
   "execution_count": 276,
   "metadata": {},
   "outputs": [],
   "source": [
    "res_times = []\n",
    "res_operations = []\n",
    "\n",
    "for exp in exponents:\n",
    "    A = random_matrix((exp, exp), min_val, max_val)\n",
    "    B = random_matrix((exp, exp), min_val, max_val)\n",
    "    \n",
    "    t_start = time()\n",
    "    std_op = standard_mlt(A, B)[1]\n",
    "    std_time = time() - t_start\n",
    "    \n",
    "    operation_count = 0\n",
    "    t_start = time()\n",
    "    binet_mlt(A, B)\n",
    "    bin_time = time() - t_start\n",
    "    bin_op = operation_count\n",
    "    \n",
    "    operation_count = 0\n",
    "    t_start = time()\n",
    "    strassen_mlt(A, B)\n",
    "    str_time = time() - t_start\n",
    "    str_op = operation_count\n",
    "    \n",
    "    res_times.append((std_time, bin_time, str_time))\n",
    "    res_operations.append((std_op, bin_op, str_op))"
   ]
  },
  {
   "cell_type": "code",
   "execution_count": 24,
   "metadata": {},
   "outputs": [
    {
     "name": "stdout",
     "output_type": "stream",
     "text": [
      "[((4, 5), (5, 5)), ((16, 25), (25, 25)), ((64, 125), (125, 125))]\n"
     ]
    }
   ],
   "source": [
    "e = 4\n",
    "ai_sizes_a = [(4**n, 5**n) for n in range(1,e)]\n",
    "ai_sizes_b = [(5**n, 5**n) for n in range(1,e)]\n",
    "sizes = list(zip(ai_sizes_a, ai_sizes_b))\n",
    "\n",
    "print(sizes)\n",
    "ai_times = []\n",
    "ai_op = []\n",
    "\n",
    "for size in sizes:\n",
    "    A = random_matrix(size[0], 0, 1)\n",
    "    B = random_matrix(size[1], 0, 1)\n",
    "    \n",
    "    operation_count = 0\n",
    "    st = time()\n",
    "    r = ai_mlt(A,B, factorizations['4,5,5'])\n",
    "    en = time()\n",
    "    \n",
    "    \n",
    "    stdt = time()\n",
    "    r1, op = standard_mlt(A,B)\n",
    "    stde = time()\n",
    "    \n",
    "    ai_times.append((en-st, stde-stdt))\n",
    "    ai_op.append((operation_count, op))\n"
   ]
  },
  {
   "cell_type": "code",
   "execution_count": 25,
   "metadata": {},
   "outputs": [
    {
     "data": {
      "image/png": "[encoded data removed]",
      "text/plain": [
       "<Figure size 432x288 with 1 Axes>"
      ]
     },
     "metadata": {
      "needs_background": "light"
     },
     "output_type": "display_data"
    }
   ],
   "source": [
    "nnn= 3\n",
    "plt.plot(range(1,e)[:nnn], ai_times[:nnn])\n",
    "plt.legend((\"AI\", \"standard\"))\n",
    "plt.show()"
   ]
  },
  {
   "cell_type": "code",
   "execution_count": 26,
   "metadata": {},
   "outputs": [
    {
     "data": {
      "image/png": "[encoded data removed]",
      "text/plain": [
       "<Figure size 432x288 with 1 Axes>"
      ]
     },
     "metadata": {
      "needs_background": "light"
     },
     "output_type": "display_data"
    }
   ],
   "source": [
    "plt.plot(range(1,e), ai_op)\n",
    "plt.legend((\"AI\", \"standard\"))\n",
    "plt.show()"
   ]
  },
  {
   "cell_type": "markdown",
   "metadata": {},
   "source": [
    "Wykresy"
   ]
  },
  {
   "cell_type": "code",
   "execution_count": 277,
   "metadata": {},
   "outputs": [
    {
     "data": {
      "image/png": "[encoded data removed]",
      "text/plain": [
       "<Figure size 432x288 with 1 Axes>"
      ]
     },
     "metadata": {
      "needs_background": "light"
     },
     "output_type": "display_data"
    }
   ],
   "source": [
    "plt.plot(exponents, res_times)\n",
    "plt.title(\"Multiplication times comparision\")\n",
    "plt.xlabel(\"exponent\")\n",
    "plt.ylabel(\"time [s]\")\n",
    "plt.xticks(exponents)\n",
    "plt.legend((\"standard mlt\", \"binet mlt\", \"strassen mlt\"))\n",
    "plt.savefig(\"./img/times256\")\n",
    "plt.show()"
   ]
  },
  {
   "cell_type": "code",
   "execution_count": 278,
   "metadata": {},
   "outputs": [
    {
     "data": {
      "image/png": "[encoded data removed]",
      "text/plain": [
       "<Figure size 432x288 with 1 Axes>"
      ]
     },
     "metadata": {
      "needs_background": "light"
     },
     "output_type": "display_data"
    }
   ],
   "source": [
    "plt.plot(exponents, res_operations)\n",
    "plt.title(\"Multiplication no_operations comparision\")\n",
    "plt.xlabel(\"exponent\")\n",
    "plt.ylabel(\"number of operations\")\n",
    "plt.xticks(exponents)\n",
    "plt.legend((\"standard mlt\", \"binet mlt\", \"strassen mlt\"))\n",
    "plt.savefig(\"./img/operations256\")\n",
    "plt.show()"
   ]
  },
  {
   "cell_type": "markdown",
   "metadata": {},
   "source": [
    "Wykresy dla małej liczby elementów"
   ]
  },
  {
   "cell_type": "code",
   "execution_count": 279,
   "metadata": {},
   "outputs": [],
   "source": [
    "no_elements = 4"
   ]
  },
  {
   "cell_type": "code",
   "execution_count": 280,
   "metadata": {},
   "outputs": [
    {
     "data": {
      "image/png": "[encoded data removed]",
      "text/plain": [
       "<Figure size 432x288 with 1 Axes>"
      ]
     },
     "metadata": {
      "needs_background": "light"
     },
     "output_type": "display_data"
    },
    {
     "data": {
      "image/png": "[encoded data removed]",
      "text/plain": [
       "<Figure size 432x288 with 1 Axes>"
      ]
     },
     "metadata": {
      "needs_background": "light"
     },
     "output_type": "display_data"
    }
   ],
   "source": [
    "plt.plot(exponents[:no_elements], res_times[:no_elements])\n",
    "plt.title(\"Multiplication times comparision\")\n",
    "plt.xlabel(\"exponent\")\n",
    "plt.ylabel(\"time [s]\")\n",
    "plt.xticks(exponents[:no_elements])\n",
    "plt.legend((\"standard mlt\", \"binet mlt\", \"strassen mlt\"))\n",
    "plt.savefig(\"./img/times16\")\n",
    "plt.show()\n",
    "\n",
    "plt.plot(exponents[:no_elements], res_times[:no_elements], 'o')\n",
    "plt.title(\"Multiplication times comparision\")\n",
    "plt.xlabel(\"exponent\")\n",
    "plt.ylabel(\"time [s]\")\n",
    "plt.xticks(exponents[:no_elements])\n",
    "plt.legend((\"standard mlt\", \"binet mlt\", \"strassen mlt\"))\n",
    "plt.savefig(\"./img/times16_o\")\n",
    "plt.show()"
   ]
  },
  {
   "cell_type": "code",
   "execution_count": 281,
   "metadata": {},
   "outputs": [
    {
     "data": {
      "image/png": "[encoded data removed]",
      "text/plain": [
       "<Figure size 432x288 with 1 Axes>"
      ]
     },
     "metadata": {
      "needs_background": "light"
     },
     "output_type": "display_data"
    },
    {
     "data": {
      "image/png": "[encoded data removed]",
      "text/plain": [
       "<Figure size 432x288 with 1 Axes>"
      ]
     },
     "metadata": {
      "needs_background": "light"
     },
     "output_type": "display_data"
    }
   ],
   "source": [
    "plt.plot(exponents[:no_elements], res_operations[:no_elements])\n",
    "plt.title(\"Multiplication no_operations comparision\")\n",
    "plt.xlabel(\"exponent\")\n",
    "plt.ylabel(\"number of operations\")\n",
    "plt.xticks(exponents[:no_elements])\n",
    "plt.legend((\"standard mlt\", \"binet mlt\", \"strassen mlt\"))\n",
    "plt.savefig(\"./img/operations16\")\n",
    "plt.show()\n",
    "\n",
    "plt.plot(exponents[:no_elements], res_operations[:no_elements], 'o')\n",
    "plt.title(\"Multiplication no_operations comparision\")\n",
    "plt.xlabel(\"exponent\")\n",
    "plt.ylabel(\"number of operations\")\n",
    "plt.xticks(exponents[:no_elements])\n",
    "plt.legend((\"standard mlt\", \"binet mlt\", \"strassen mlt\"))\n",
    "plt.savefig(\"./img/operations16_o\")\n",
    "plt.show()"
   ]
  },
  {
   "cell_type": "code",
   "execution_count": null,
   "metadata": {},
   "outputs": [],
   "source": []
  }
 ],
 "metadata": {
  "kernelspec": {
   "display_name": "Python 3 (ipykernel)",
   "language": "python",
   "name": "python3"
  },
  "language_info": {
   "codemirror_mode": {
    "name": "ipython",
    "version": 3
   },
   "file_extension": ".py",
   "mimetype": "text/x-python",
   "name": "python",
   "nbconvert_exporter": "python",
   "pygments_lexer": "ipython3",
   "version": "3.9.12"
  }
 },
 "nbformat": 4,
 "nbformat_minor": 2
}
