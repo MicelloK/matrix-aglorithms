{
 "cells": [
  {
   "cell_type": "markdown",
   "metadata": {},
   "source": [
    "# Algorytmy macierzowe\n",
    "## lab 1"
   ]
  },
  {
   "cell_type": "code",
   "execution_count": 1,
   "metadata": {},
   "outputs": [],
   "source": [
    "import numpy as np\n",
    "from time import time\n",
    "from matplotlib import pyplot as plt"
   ]
  },
  {
   "cell_type": "markdown",
   "metadata": {},
   "source": [
    "Generowanie macierzy"
   ]
  },
  {
   "cell_type": "code",
   "execution_count": 2,
   "metadata": {},
   "outputs": [],
   "source": [
    "def random_matrix(matrix_size, min_val, max_val):\n",
    "    \"\"\"Return matrix with random floats from [min_val, max_val)\"\"\"\n",
    "    return (max_val - min_val) * np.random.random(matrix_size) + min_val"
   ]
  },
  {
   "cell_type": "code",
   "execution_count": 3,
   "metadata": {},
   "outputs": [],
   "source": [
    "exp = 6\n",
    "matrix_size = (2**exp, 2**exp)\n",
    "\n",
    "min_val = 0.00000001\n",
    "max_val = 1\n",
    "\n",
    "A = random_matrix(matrix_size, min_val, max_val)\n",
    "B = random_matrix(matrix_size, min_val, max_val)"
   ]
  },
  {
   "cell_type": "markdown",
   "metadata": {},
   "source": [
    "Standardowe mnożenie macierzy"
   ]
  },
  {
   "cell_type": "code",
   "execution_count": 4,
   "metadata": {},
   "outputs": [],
   "source": [
    "def standard_mlt(A, B):\n",
    "    \"\"\"Return tuple with mlt result, no_plus_op, no_mul_op\"\"\"\n",
    "    operation_count = 0\n",
    "    result = np.zeros((len(A), len(B[0])), dtype=float)\n",
    "    for i in range(len(A)):\n",
    "        for j in range(len(B[0])):\n",
    "               for k in range(len(B)):\n",
    "                    result[i][j] += A[i][k] * B[k][j]\n",
    "                    operation_count += 2\n",
    "    return result, operation_count"
   ]
  },
  {
   "cell_type": "markdown",
   "metadata": {},
   "source": [
    "### 1. Rekurencyjne mnożenie macierzy metodą Binet`a (10 punktów)"
   ]
  },
  {
   "cell_type": "code",
   "execution_count": 5,
   "metadata": {},
   "outputs": [],
   "source": [
    "def binet_mlt(A, B):\n",
    "    global operation_count\n",
    "    \n",
    "    if len(A) != len(B):\n",
    "        print(\"ERROR: Wrong matrix dimensions!\")\n",
    "    elif len(A) == 2:\n",
    "        a00 = A[0,0]*B[0,0] + A[0,1]*B[1,0]\n",
    "        a01 = A[0,0]*B[0,1] + A[0,1]*B[1,1]\n",
    "        \n",
    "        a10 = A[1,0]*B[0,0] + A[1,1]*B[1,0]\n",
    "        a11 = A[1,0]*B[0,1] + A[1,1]*B[1,1]\n",
    "        \n",
    "        operation_count += 12\n",
    "        return np.array([[a00,a01],\n",
    "                         [a10,a11]])\n",
    "    else:\n",
    "        matrix_size = len(A)\n",
    "        \n",
    "        A11 = A[:matrix_size//2, :matrix_size//2]\n",
    "        A12 = A[:matrix_size//2, matrix_size//2:]\n",
    "        A21 = A[matrix_size//2:, :matrix_size//2]\n",
    "        A22 = A[matrix_size//2:, matrix_size//2:]\n",
    "\n",
    "        B11 = B[:matrix_size//2, :matrix_size//2]\n",
    "        B12 = B[:matrix_size//2, matrix_size//2:]\n",
    "        B21 = B[matrix_size//2:, :matrix_size//2]\n",
    "        B22 = B[matrix_size//2:, matrix_size//2:]\n",
    "        \n",
    "        C11 = binet_mlt(A11, B11) + binet_mlt(A12, B21)\n",
    "        C12 = binet_mlt(A11, B12) + binet_mlt(A12, B22)\n",
    "        C21 = binet_mlt(A21, B11) + binet_mlt(A22, B21)\n",
    "        C22 = binet_mlt(A21, B12) + binet_mlt(A22, B22)\n",
    "\n",
    "        operation_count += 4*len(C11)**2\n",
    "        \n",
    "        result = np.empty((matrix_size, matrix_size))\n",
    "        result[:matrix_size // 2, :matrix_size // 2] = C11\n",
    "        result[:matrix_size // 2, matrix_size // 2:] = C12\n",
    "        result[matrix_size // 2:, :matrix_size // 2] = C21\n",
    "        result[matrix_size // 2:, matrix_size // 2:] = C22\n",
    "        \n",
    "        return result"
   ]
  },
  {
   "cell_type": "code",
   "execution_count": 6,
   "metadata": {},
   "outputs": [
    {
     "name": "stdout",
     "output_type": "stream",
     "text": [
      "Matrix size: 2**6\n",
      "Is correct?: True\n",
      "Number of operations: 520192\n",
      "Number of operations (Standard mlt): 524288\n"
     ]
    }
   ],
   "source": [
    "operation_count = 0\n",
    "res = binet_mlt(A, B)\n",
    "\n",
    "print(f\"Matrix size: 2**{exp}\")\n",
    "print(\"Is correct?:\", np.allclose(res, A@B))\n",
    "print(\"Number of operations:\", operation_count)\n",
    "print(\"Number of operations (Standard mlt):\", standard_mlt(A, B)[1])\n",
    "# print(\"Result:\", res, sep='\\n')"
   ]
  },
  {
   "cell_type": "markdown",
   "metadata": {},
   "source": [
    "### 2. Rekurencyjne mnożenie macierzy metodą Strassena (10 punktów)"
   ]
  },
  {
   "cell_type": "code",
   "execution_count": 7,
   "metadata": {},
   "outputs": [],
   "source": [
    "def strassen_mlt(A,B):\n",
    "    global operation_count\n",
    "\n",
    "    n = len(A)\n",
    "    \n",
    "    if(n==2):\n",
    "        a00 = A[0,0]*B[0,0] + A[0,1]*B[1,0]\n",
    "        a01 = A[0,0]*B[0,1] + A[0,1]*B[1,1]\n",
    "        \n",
    "        a10 = A[1,0]*B[0,0] + A[1,1]*B[1,0]\n",
    "        a11 = A[1,0]*B[0,1] + A[1,1]*B[1,1]\n",
    "        \n",
    "        operation_count += 12\n",
    "        return np.array([[a00,a01],\n",
    "                         [a10,a11]])\n",
    "        \n",
    "    A11 = A[:n//2, :n//2]\n",
    "    B11 = B[:n//2, :n//2]\n",
    "\n",
    "    A12 = A[:n//2, (n//2):]\n",
    "    B12 = B[:n//2, (n//2):]\n",
    "\n",
    "    A21 = A[(n//2): , :n//2]\n",
    "    B21 = B[(n//2): , :n//2]\n",
    "\n",
    "    A22 = A[(n//2): , (n//2):]\n",
    "    B22 = B[(n//2): , (n//2):]\n",
    "    \n",
    "\n",
    "    P1 = strassen_mlt((A11 + A22), (B11 + B22))\n",
    "    P2 = strassen_mlt((A21 + A22), B11)\n",
    "    P3 = strassen_mlt(A11, (B12 - B22))\n",
    "    P4 = strassen_mlt(A22, (B21 - B11))\n",
    "    P5 = strassen_mlt((A11 + A12), B22)\n",
    "    P6 = strassen_mlt((A21 - A11), (B11 + B12))\n",
    "    P7 = strassen_mlt((A12 - A22), (B21 + B22))\n",
    "    \n",
    "    C11 = (P1 + P4 - P5 + P7)\n",
    "    C12 = (P3 + P5)\n",
    "    C21 = (P2 + P4)\n",
    "    C22 = (P1 - P2 + P3 + P6)\n",
    "    \n",
    "    operation_count += 18 * len(P1)**2\n",
    "    \n",
    "    '''top_row = np.hstack((C11, C12))\n",
    "    bottom_row = np.hstack((C21, C22))\n",
    "    result = np.vstack((top_row, bottom_row))'''\n",
    "\n",
    "    result = np.empty((n, n))\n",
    "    result[:n // 2, :n // 2] = C11\n",
    "    result[:n // 2, n // 2:] = C12\n",
    "    result[n // 2:, :n // 2] = C21\n",
    "    result[n // 2:, n // 2:] = C22\n",
    "    \n",
    "    return result"
   ]
  },
  {
   "cell_type": "code",
   "execution_count": 8,
   "metadata": {},
   "outputs": [
    {
     "name": "stdout",
     "output_type": "stream",
     "text": [
      "Matrix size: 2**6\n",
      "Is correct?: True\n",
      "Number of operations: 580476\n",
      "Number of operations (Standard mlt): 524288\n"
     ]
    }
   ],
   "source": [
    "operation_count = 0\n",
    "res = strassen_mlt(A, B)\n",
    "\n",
    "print(f\"Matrix size: 2**{exp}\")\n",
    "print(\"Is correct?:\", np.allclose(res, A@B))\n",
    "print(\"Number of operations:\", operation_count)\n",
    "print(\"Number of operations (Standard mlt):\", standard_mlt(A, B)[1])\n",
    "# print(\"Result:\", res, sep='\\n')"
   ]
  },
  {
   "cell_type": "markdown",
   "metadata": {},
   "source": [
    "### 3. Mnożenie macierzy metodą znalezioną przez sztuczną inteligencję (10 punktów)"
   ]
  },
  {
   "cell_type": "code",
   "execution_count": 9,
   "metadata": {
    "scrolled": false
   },
   "outputs": [],
   "source": [
    "filename = \"factorizations_r.npz\"\n",
    "with open(filename, 'rb') as f:\n",
    "    factorizations = dict(np.load(f, allow_pickle=True))"
   ]
  },
  {
   "cell_type": "code",
   "execution_count": 10,
   "metadata": {
    "scrolled": false
   },
   "outputs": [
    {
     "name": "stdout",
     "output_type": "stream",
     "text": [
      "2,2,2: rank=7\n",
      "2,2,3: rank=11\n",
      "2,2,4: rank=14\n",
      "2,2,5: rank=18\n",
      "2,2,6: rank=21\n",
      "2,2,7: rank=25\n",
      "2,2,8: rank=28\n",
      "2,3,3: rank=15\n",
      "2,3,4: rank=20\n",
      "2,3,5: rank=25\n",
      "2,4,4: rank=26\n",
      "2,4,5: rank=33\n",
      "2,5,5: rank=40\n",
      "3,3,3: rank=23\n",
      "3,3,4: rank=29\n",
      "3,3,5: rank=36\n",
      "3,4,4: rank=38\n",
      "3,4,5: rank=47\n",
      "3,4,11: rank=103\n",
      "3,5,5: rank=58\n",
      "3,5,9: rank=105\n",
      "3,9,11: rank=225\n",
      "4,4,4: rank=49\n",
      "4,4,5: rank=63\n",
      "4,5,5: rank=76\n",
      "4,5,9: rank=139\n",
      "4,5,10: rank=152\n",
      "4,5,11: rank=169\n",
      "4,9,10: rank=255\n",
      "4,9,11: rank=280\n",
      "4,11,11: rank=343\n",
      "4,11,12: rank=366\n",
      "5,5,5: rank=98\n",
      "5,5,7: rank=134\n",
      "5,7,9: rank=234\n",
      "5,7,10: rank=257\n",
      "5,7,11: rank=280\n",
      "5,8,9: rank=262\n",
      "5,8,10: rank=287\n",
      "5,8,11: rank=317\n",
      "5,9,9: rank=296\n",
      "5,9,10: rank=323\n",
      "5,9,11: rank=358\n",
      "5,9,12: rank=381\n",
      "6,7,9: rank=270\n",
      "6,7,10: rank=296\n",
      "6,7,11: rank=322\n",
      "6,8,10: rank=329\n",
      "6,8,11: rank=365\n",
      "6,9,9: rank=342\n",
      "6,9,10: rank=373\n",
      "6,9,11: rank=411\n",
      "7,7,9: rank=318\n",
      "7,7,10: rank=350\n",
      "7,7,11: rank=384\n",
      "7,8,9: rank=354\n",
      "7,8,10: rank=393\n",
      "7,8,11: rank=432\n",
      "7,8,12: rank=462\n",
      "7,9,9: rank=399\n",
      "7,9,10: rank=441\n",
      "7,9,11: rank=481\n",
      "7,9,12: rank=510\n",
      "7,10,10: rank=478\n",
      "7,10,11: rank=536\n",
      "7,11,11: rank=582\n",
      "8,8,10: rank=441\n",
      "8,8,11: rank=489\n",
      "8,9,10: rank=489\n",
      "8,9,11: rank=533\n",
      "8,9,12: rank=560\n",
      "8,10,10: rank=532\n",
      "8,10,11: rank=596\n",
      "8,10,12: rank=636\n",
      "8,11,11: rank=649\n",
      "8,11,12: rank=691\n",
      "9,9,9: rank=498\n",
      "9,9,10: rank=534\n",
      "9,9,11: rank=576\n",
      "9,10,10: rank=606\n",
      "9,10,11: rank=657\n",
      "9,10,12: rank=696\n",
      "9,11,11: rank=725\n",
      "9,11,12: rank=760\n",
      "10,10,10: rank=682\n",
      "10,10,11: rank=746\n",
      "10,10,12: rank=798\n",
      "10,11,11: rank=821\n",
      "10,11,12: rank=874\n",
      "10,12,12: rank=928\n",
      "11,11,11: rank=896\n",
      "11,11,12: rank=941\n",
      "11,12,12: rank=990\n"
     ]
    }
   ],
   "source": [
    "for key in factorizations:\n",
    "    u, v, w = factorizations[key]\n",
    "    rank = u.shape[-1]\n",
    "    assert rank == v.shape[-1] and rank == w.shape[-1]\n",
    "    print(f'{key}: rank={u.shape[-1]}')"
   ]
  },
  {
   "cell_type": "code",
   "execution_count": 11,
   "metadata": {},
   "outputs": [
    {
     "name": "stdout",
     "output_type": "stream",
     "text": [
      "[ 0  0  0 -1 -1 -1  0  0 -1  0  0  0  1  0  1  0  0  0  0  0  0  0  0  1\n",
      "  1  0  1  0  0  0  0  0  0  0  0  0  1  0  0  0  0  0  0  0  0  0 -1  0\n",
      "  0  0  0  0  0  0  0  0  0  0  0  0  0  0  0  0  0  0  0  0  0  0  0  0\n",
      "  0  0  0  0]\n"
     ]
    }
   ],
   "source": [
    "print(factorizations['4,5,5'][2][0])"
   ]
  },
  {
   "cell_type": "markdown",
   "metadata": {},
   "source": [
    "![Example](https://www.furidamu.org/images/2022-10-04-alphatensor/strassen.webp)"
   ]
  },
  {
   "cell_type": "code",
   "execution_count": 85,
   "metadata": {},
   "outputs": [],
   "source": [
    "# (4x5)*(5x5)=(4x5)\n",
    "# https://www.nature.com/articles/s41586-022-05172-4\n",
    "mult_count = 0\n",
    "plus_count = 0\n",
    "def ai_mlt(A,B, factor):\n",
    "    global operation_count\n",
    "    if A.shape == (4,5) and B.shape == (5,5):\n",
    "        result = np.zeros((4,5), dtype=float)\n",
    "        for i in range(len(A)):\n",
    "            for j in range(len(B[0])):\n",
    "                   for k in range(len(B)):\n",
    "                        result[i][j] += A[i][k] * B[k][j]\n",
    "                        operation_count+=2\n",
    "        return result\n",
    "\n",
    "    \n",
    "    \n",
    "    \n",
    "    n = len(A)//4\n",
    "    m = len(A[0])//5\n",
    "    k = len(B[0])//5\n",
    "    \n",
    "    \n",
    "    t1 = factor[0]\n",
    "    t2 = factor[1]\n",
    "    t3 = factor[2]\n",
    "    \n",
    "    mul_len = t1.shape[1]\n",
    "    \n",
    "    mtab = [None for _ in range(mul_len)]\n",
    "    for i in range(mul_len):\n",
    "        A_elements = t1[:, i]\n",
    "        B_elements = t2[:, i]\n",
    "        \n",
    "        A_factor = np.zeros((n,m), dtype = float)\n",
    "        for j in range(len(A_elements)):\n",
    "            if A_elements[j] != 0:\n",
    "                x,y = np.unravel_index(j, (4,5))\n",
    "                A_factor += A[x*n:(x+1)*n, y*m: (y+1)*m]*A_elements[j]\n",
    "                \n",
    "                operation_count += len(A_factor)*len(A_factor[0])\n",
    "        \n",
    "        B_factor = np.zeros((k,k), dtype = float)\n",
    "        for j in range(len(B_elements)):\n",
    "            if B_elements[j] != 0:\n",
    "                x,y = np.unravel_index(j, (5,5))\n",
    "                B_factor += B[x*k:(x+1)*k, y*k: (y+1)*k]*B_elements[j]\n",
    "                \n",
    "                operation_count += len(B_factor)**2\n",
    "        \n",
    "        m_res = ai_mlt(A_factor, B_factor, factor)\n",
    "        mtab[i] = m_res\n",
    "    \n",
    "    res_matrix = np.zeros((n*4,m*5), dtype = float)\n",
    "    \n",
    "    xind = 0\n",
    "    yind = 0\n",
    "    for i in range(t3.shape[0]):\n",
    "        x,y = np.unravel_index(i, (4,5))\n",
    "        res_fragment = np.zeros((n,m), dtype = float)\n",
    "        C_elements = t3[i, :]\n",
    "        for j in range(len(C_elements)):\n",
    "            if C_elements[j] != 0:\n",
    "                res_fragment += mtab[j]*C_elements[j]\n",
    "                \n",
    "                operation_count += len(mtab[i])*len(mtab[j][0])\n",
    "        \n",
    "        if xind >= 4:  \n",
    "            yind+=1\n",
    "            xind=0\n",
    "        \n",
    "        res_matrix[xind*n:(xind+1)*n, yind*m: (yind+1)*m] = res_fragment\n",
    "        \n",
    "        xind+=1\n",
    "        \n",
    "    return res_matrix\n",
    "  "
   ]
  },
  {
   "cell_type": "code",
   "execution_count": 86,
   "metadata": {
    "scrolled": false
   },
   "outputs": [
    {
     "name": "stdout",
     "output_type": "stream",
     "text": [
      "2702870 2000000\n"
     ]
    }
   ],
   "source": [
    "a1 = random_matrix((4**3,5**3), 0, 1)\n",
    "a2 = random_matrix((5**3,5**3), 0, 1)\n",
    "\n",
    "operation_count = 0\n",
    "r1 = ai_mlt(a1, a2, factorizations['4,5,5'])\n",
    "r2, op = standard_mlt(a1,a2)\n",
    "print(operation_count, op)\n",
    "# print(a1.shape, a2.shape)"
   ]
  },
  {
   "cell_type": "code",
   "execution_count": 15,
   "metadata": {
    "scrolled": false
   },
   "outputs": [
    {
     "name": "stdout",
     "output_type": "stream",
     "text": [
      "True 0 0\n",
      "True 0 1\n",
      "True 0 2\n",
      "True 0 3\n",
      "True 0 4\n",
      "True 1 0\n",
      "True 1 1\n",
      "True 1 2\n",
      "True 1 3\n",
      "True 1 4\n",
      "True 2 0\n",
      "True 2 1\n",
      "True 2 2\n",
      "True 2 3\n",
      "True 2 4\n",
      "True 3 0\n",
      "True 3 1\n",
      "True 3 2\n",
      "True 3 3\n",
      "True 3 4\n"
     ]
    }
   ],
   "source": [
    "def exists(a, b, block):\n",
    "    for x in range(4):\n",
    "        for y in range(5):\n",
    "            mb = b[x*n:(x+1)*n, y*m: (y+1)*m]\n",
    "            if np.allclose(mb, block):\n",
    "                return True, x, y\n",
    "            \n",
    "r2 = a1@a2\n",
    "\n",
    "n = 4\n",
    "m = 5\n",
    "\n",
    "for x in range(4):\n",
    "    for y in range(5):\n",
    "        mb = r2[x*n:(x+1)*n, y*m: (y+1)*m]\n",
    "        ma = r1[x*n:(x+1)*n, y*m: (y+1)*m]\n",
    "\n",
    "        print(np.allclose(ma, mb), x, y)\n",
    "        if not np.allclose(ma, mb):\n",
    "            print(exists(r1, r2, ma))"
   ]
  },
  {
   "cell_type": "code",
   "execution_count": 16,
   "metadata": {},
   "outputs": [
    {
     "name": "stdout",
     "output_type": "stream",
     "text": [
      "True\n"
     ]
    }
   ],
   "source": [
    "print(np.allclose(r1,r2))"
   ]
  },
  {
   "cell_type": "markdown",
   "metadata": {},
   "source": [
    "### Testy"
   ]
  },
  {
   "cell_type": "code",
   "execution_count": 112,
   "metadata": {},
   "outputs": [],
   "source": [
    "exponents = [2**i for i in range(1,11)]"
   ]
  },
  {
   "cell_type": "code",
   "execution_count": 113,
   "metadata": {},
   "outputs": [],
   "source": [
    "res_times = []\n",
    "res_operations = []\n",
    "\n",
    "for exp in exponents:\n",
    "    A = random_matrix((exp, exp), min_val, max_val)\n",
    "    B = random_matrix((exp, exp), min_val, max_val)\n",
    "    \n",
    "    t_start = time()\n",
    "    std_op = standard_mlt(A, B)[1]\n",
    "    std_time = time() - t_start\n",
    "    \n",
    "    operation_count = 0\n",
    "    t_start = time()\n",
    "    binet_mlt(A, B)\n",
    "    bin_time = time() - t_start\n",
    "    bin_op = operation_count\n",
    "    \n",
    "    operation_count = 0\n",
    "    t_start = time()\n",
    "    strassen_mlt(A, B)\n",
    "    str_time = time() - t_start\n",
    "    str_op = operation_count\n",
    "    \n",
    "    res_times.append((std_time, bin_time, str_time))\n",
    "    res_operations.append((std_op, bin_op, str_op))"
   ]
  },
  {
   "cell_type": "code",
   "execution_count": 88,
   "metadata": {},
   "outputs": [],
   "source": [
    "e = 5\n",
    "ai_sizes_a = [(4**n, 5**n) for n in range(1,e)]\n",
    "ai_sizes_b = [(5**n, 5**n) for n in range(1,e)]\n",
    "sizes = list(zip(ai_sizes_a, ai_sizes_b))\n",
    "\n",
    "ai_times = []\n",
    "ai_op = []\n",
    "\n",
    "for size in sizes:\n",
    "    A = random_matrix(size[0], 0, 1)\n",
    "    B = random_matrix(size[1], 0, 1)\n",
    "    \n",
    "    operation_count = 0\n",
    "    st = time()\n",
    "    r = ai_mlt(A,B, factorizations['4,5,5'])\n",
    "    en = time()\n",
    "    \n",
    "    \n",
    "    stdt = time()\n",
    "    r1, op = standard_mlt(A,B)\n",
    "    stde = time()\n",
    "    \n",
    "    ai_times.append((en-st, stde-stdt))\n",
    "    ai_op.append((operation_count, op))\n"
   ]
  },
  {
   "cell_type": "markdown",
   "metadata": {},
   "source": [
    "Wykresy"
   ]
  },
  {
   "cell_type": "code",
   "execution_count": 89,
   "metadata": {},
   "outputs": [
    {
     "data": {
      "image/png": "[encoded data removed]",
      "text/plain": [
       "<Figure size 432x288 with 1 Axes>"
      ]
     },
     "metadata": {
      "needs_background": "light"
     },
     "output_type": "display_data"
    }
   ],
   "source": [
    "plt.plot(exponents, res_times)\n",
    "plt.title(\"Multiplication times comparision\")\n",
    "plt.xlabel(\"exponent\")\n",
    "plt.ylabel(\"time [s]\")\n",
    "plt.xticks(exponents)\n",
    "plt.legend((\"standard mlt\", \"binet mlt\", \"strassen mlt\"))\n",
    "# plt.savefig(\"./img/times256\")\n",
    "plt.show()"
   ]
  },
  {
   "cell_type": "code",
   "execution_count": 90,
   "metadata": {},
   "outputs": [
    {
     "data": {
      "image/png": "[encoded data removed]",
      "text/plain": [
       "<Figure size 432x288 with 1 Axes>"
      ]
     },
     "metadata": {
      "needs_background": "light"
     },
     "output_type": "display_data"
    }
   ],
   "source": [
    "plt.plot(exponents, res_operations)\n",
    "plt.title(\"Multiplication no_operations comparision\")\n",
    "plt.xlabel(\"exponent\")\n",
    "plt.ylabel(\"number of operations\")\n",
    "plt.xticks(exponents)\n",
    "plt.legend((\"standard mlt\", \"binet mlt\", \"strassen mlt\"))\n",
    "# plt.savefig(\"./img/operations256\")\n",
    "plt.show()"
   ]
  },
  {
   "cell_type": "markdown",
   "metadata": {},
   "source": [
    "Wykresy dla małej liczby elementów"
   ]
  },
  {
   "cell_type": "code",
   "execution_count": 91,
   "metadata": {},
   "outputs": [],
   "source": [
    "no_elements = 4"
   ]
  },
  {
   "cell_type": "code",
   "execution_count": 92,
   "metadata": {},
   "outputs": [
    {
     "data": {
      "image/png": "[encoded data removed]",
      "text/plain": [
       "<Figure size 432x288 with 1 Axes>"
      ]
     },
     "metadata": {
      "needs_background": "light"
     },
     "output_type": "display_data"
    },
    {
     "data": {
      "image/png": "[encoded data removed]",
      "text/plain": [
       "<Figure size 432x288 with 1 Axes>"
      ]
     },
     "metadata": {
      "needs_background": "light"
     },
     "output_type": "display_data"
    }
   ],
   "source": [
    "plt.plot(exponents[:no_elements], res_times[:no_elements])\n",
    "plt.title(\"Multiplication times comparision\")\n",
    "plt.xlabel(\"exponent\")\n",
    "plt.ylabel(\"time [s]\")\n",
    "plt.xticks(exponents[:no_elements])\n",
    "plt.legend((\"standard mlt\", \"binet mlt\", \"strassen mlt\"))\n",
    "# plt.savefig(\"./img/times16\")\n",
    "plt.show()\n",
    "\n",
    "plt.plot(exponents[:no_elements], res_times[:no_elements], 'o')\n",
    "plt.title(\"Multiplication times comparision\")\n",
    "plt.xlabel(\"exponent\")\n",
    "plt.ylabel(\"time [s]\")\n",
    "plt.xticks(exponents[:no_elements])\n",
    "plt.legend((\"standard mlt\", \"binet mlt\", \"strassen mlt\"))\n",
    "# plt.savefig(\"./img/times16_o\")\n",
    "plt.show()"
   ]
  },
  {
   "cell_type": "code",
   "execution_count": 93,
   "metadata": {},
   "outputs": [
    {
     "data": {
      "image/png": "[encoded data removed]",
      "text/plain": [
       "<Figure size 432x288 with 1 Axes>"
      ]
     },
     "metadata": {
      "needs_background": "light"
     },
     "output_type": "display_data"
    },
    {
     "data": {
      "image/png": "[encoded data removed]",
      "text/plain": [
       "<Figure size 432x288 with 1 Axes>"
      ]
     },
     "metadata": {
      "needs_background": "light"
     },
     "output_type": "display_data"
    }
   ],
   "source": [
    "plt.plot(exponents[:no_elements], res_operations[:no_elements])\n",
    "plt.title(\"Multiplication no_operations comparision\")\n",
    "plt.xlabel(\"exponent\")\n",
    "plt.ylabel(\"number of operations\")\n",
    "plt.xticks(exponents[:no_elements])\n",
    "plt.legend((\"standard mlt\", \"binet mlt\", \"strassen mlt\"))\n",
    "# plt.savefig(\"./img/operations16\")\n",
    "plt.show()\n",
    "\n",
    "plt.plot(exponents[:no_elements], res_operations[:no_elements], 'o')\n",
    "plt.title(\"Multiplication no_operations comparision\")\n",
    "plt.xlabel(\"exponent\")\n",
    "plt.ylabel(\"number of operations\")\n",
    "plt.xticks(exponents[:no_elements])\n",
    "plt.legend((\"standard mlt\", \"binet mlt\", \"strassen mlt\"))\n",
    "# plt.savefig(\"./img/operations16_o\")\n",
    "plt.show()"
   ]
  },
  {
   "cell_type": "markdown",
   "metadata": {},
   "source": [
    "AI"
   ]
  },
  {
   "cell_type": "code",
   "execution_count": 104,
   "metadata": {},
   "outputs": [
    {
     "name": "stdout",
     "output_type": "stream",
     "text": [
      "[45, 1025, 23625, 550625]\n",
      "[(0.0014801025390625, 0.0), (0.01084136962890625, 0.006001710891723633), (0.7856869697570801, 0.5931448936462402), (60.40628480911255, 61.11888527870178)]\n"
     ]
    },
    {
     "data": {
      "image/png": "[encoded data removed]",
      "text/plain": [
       "<Figure size 432x288 with 1 Axes>"
      ]
     },
     "metadata": {
      "needs_background": "light"
     },
     "output_type": "display_data"
    }
   ],
   "source": [
    "nnn = 3\n",
    "total_elements = [(4**n)*(5**n) + (5**n)*(5**n) for n in range(1,e)]\n",
    "print(total_elements)\n",
    "print(ai_times)\n",
    "plt.plot(total_elements[:nnn], ai_times[:nnn])\n",
    "plt.title(\"Multiplication times comparision\")\n",
    "plt.ylabel(\"time [s]\")\n",
    "plt.legend((\"AI\", \"standard\"))\n",
    "plt.savefig(\"./img/aitimes.png\")\n",
    "plt.show()"
   ]
  },
  {
   "cell_type": "code",
   "execution_count": 105,
   "metadata": {},
   "outputs": [
    {
     "name": "stdout",
     "output_type": "stream",
     "text": [
      "[(200, 200), (30970, 20000), (2702870, 2000000), (213244870, 200000000)]\n"
     ]
    },
    {
     "data": {
      "image/png": "[encoded data removed]",
      "text/plain": [
       "<Figure size 432x288 with 1 Axes>"
      ]
     },
     "metadata": {
      "needs_background": "light"
     },
     "output_type": "display_data"
    }
   ],
   "source": [
    "nnn = 3\n",
    "print(ai_op)\n",
    "plt.plot(total_elements, ai_op)\n",
    "plt.title(\"Multiplication operations comparision\")\n",
    "plt.ylabel(\"no_operations\")\n",
    "plt.legend((\"AI\", \"standard\"))\n",
    "plt.savefig(\"./img/aioperations.png\")\n",
    "plt.show()"
   ]
  },
  {
   "cell_type": "markdown",
   "metadata": {},
   "source": [
    "## Złożoność"
   ]
  },
  {
   "cell_type": "code",
   "execution_count": 27,
   "metadata": {},
   "outputs": [],
   "source": [
    "from scipy.optimize import curve_fit"
   ]
  },
  {
   "cell_type": "code",
   "execution_count": 69,
   "metadata": {},
   "outputs": [],
   "source": [
    "def func(x, a, b):\n",
    "    return a * np.power(x,b)"
   ]
  },
  {
   "cell_type": "code",
   "execution_count": 70,
   "metadata": {},
   "outputs": [
    {
     "name": "stdout",
     "output_type": "stream",
     "text": [
      "[(16, 12, 12), (128, 112, 156), (1024, 960, 1380), (8192, 7936, 10812), (65536, 64512, 80292), (524288, 520192, 580476), (4194304, 4177920, 4137060), (33554432, 33488896, 29254332), (268435456, 268173312, 205959972)]\n",
      "[[       16        12        12]\n",
      " [      128       112       156]\n",
      " [     1024       960      1380]\n",
      " [     8192      7936     10812]\n",
      " [    65536     64512     80292]\n",
      " [   524288    520192    580476]\n",
      " [  4194304   4177920   4137060]\n",
      " [ 33554432  33488896  29254332]\n",
      " [268435456 268173312 205959972]]\n"
     ]
    }
   ],
   "source": [
    "print(res_operations)\n",
    "y_data = np.array(res_operations)\n",
    "print(y_data)"
   ]
  },
  {
   "cell_type": "code",
   "execution_count": 77,
   "metadata": {},
   "outputs": [],
   "source": [
    "x_data = exponents\n",
    "y_data_standard = y_data[:, 0]\n",
    "y_data_binet = y_data[:,1]\n",
    "y_data_strassen = y_data[:,2]"
   ]
  },
  {
   "cell_type": "code",
   "execution_count": 78,
   "metadata": {},
   "outputs": [],
   "source": [
    "params_std, cov_std = curve_fit(func, x_data, y_data_standard)"
   ]
  },
  {
   "cell_type": "code",
   "execution_count": 80,
   "metadata": {},
   "outputs": [
    {
     "name": "stdout",
     "output_type": "stream",
     "text": [
      "[2. 3.]\n"
     ]
    }
   ],
   "source": [
    "print(params_std)"
   ]
  },
  {
   "cell_type": "code",
   "execution_count": 72,
   "metadata": {},
   "outputs": [],
   "source": [
    "params_binet, cov_binet = curve_fit(func, x_data, y_data_binet)"
   ]
  },
  {
   "cell_type": "code",
   "execution_count": 73,
   "metadata": {},
   "outputs": [
    {
     "name": "stdout",
     "output_type": "stream",
     "text": [
      "[1.97997077 3.00145685]\n"
     ]
    }
   ],
   "source": [
    "print(params_binet)"
   ]
  },
  {
   "cell_type": "code",
   "execution_count": 74,
   "metadata": {},
   "outputs": [],
   "source": [
    "params_strassen, cov_strassen = curve_fit(func, x_data, y_data_strassen)"
   ]
  },
  {
   "cell_type": "code",
   "execution_count": 75,
   "metadata": {},
   "outputs": [
    {
     "name": "stdout",
     "output_type": "stream",
     "text": [
      "[4.8386943  2.81590819]\n"
     ]
    }
   ],
   "source": [
    "print(params_strassen)"
   ]
  },
  {
   "cell_type": "code",
   "execution_count": 108,
   "metadata": {},
   "outputs": [],
   "source": [
    "ai_data = np.array(ai_op)\n",
    "y_data_ai = ai_data[:,0]"
   ]
  },
  {
   "cell_type": "code",
   "execution_count": 111,
   "metadata": {},
   "outputs": [
    {
     "name": "stderr",
     "output_type": "stream",
     "text": [
      "C:\\Users\\Lenovo\\AppData\\Local\\Temp\\ipykernel_28836\\4018669868.py:2: RuntimeWarning: overflow encountered in power\n",
      "  return a * np.power(x,b)\n"
     ]
    }
   ],
   "source": [
    "params_ai, cov_ai = curve_fit(func, total_elements, y_data_ai)"
   ]
  },
  {
   "cell_type": "code",
   "execution_count": null,
   "metadata": {},
   "outputs": [],
   "source": []
  }
 ],
 "metadata": {
  "kernelspec": {
   "display_name": "Python 3 (ipykernel)",
   "language": "python",
   "name": "python3"
  },
  "language_info": {
   "codemirror_mode": {
    "name": "ipython",
    "version": 3
   },
   "file_extension": ".py",
   "mimetype": "text/x-python",
   "name": "python",
   "nbconvert_exporter": "python",
   "pygments_lexer": "ipython3",
   "version": "3.9.12"
  }
 },
 "nbformat": 4,
 "nbformat_minor": 2
}
