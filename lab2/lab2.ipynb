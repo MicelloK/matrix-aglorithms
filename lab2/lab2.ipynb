{
 "cells": [
  {
   "cell_type": "markdown",
   "metadata": {},
   "source": [
    "# Algorytmy macierzowe\n",
    "## lab 2"
   ]
  },
  {
   "cell_type": "code",
   "execution_count": 1,
   "metadata": {},
   "outputs": [],
   "source": [
    "import numpy as np\n",
    "from time import time\n",
    "from matplotlib import pyplot as plt\n",
    "import pandas as pd"
   ]
  },
  {
   "cell_type": "markdown",
   "metadata": {},
   "source": [
    "Własna klasa Number do zliczania ilości operacji"
   ]
  },
  {
   "cell_type": "code",
   "execution_count": 2,
   "metadata": {},
   "outputs": [],
   "source": [
    "class Number(float):\n",
    "    operation_counter = 0\n",
    "    \n",
    "    def __repr__(self) -> str:\n",
    "        return f\"{self:.8f}\"\n",
    "    \n",
    "    def __radd__(self, other):\n",
    "        Number.operation_counter += 1\n",
    "        return Number(super().__radd__(other))\n",
    "\n",
    "    def __add__(self, other):\n",
    "        Number.operation_counter += 1\n",
    "        return Number(super().__add__(other))\n",
    "    \n",
    "    def __rsub__(self, other):\n",
    "        Number.operation_counter += 1\n",
    "        return Number(super().__rsub__(other))\n",
    "\n",
    "    def __sub__(self, other):\n",
    "        Number.operation_counter += 1\n",
    "        return Number(super().__sub__(other))\n",
    "    \n",
    "    def __mul__ (self, other):\n",
    "        Number.operation_counter += 1\n",
    "        return Number(super().__mul__(other))\n",
    "    \n",
    "    def __rmul__ (self, other):\n",
    "        Number.operation_counter += 1\n",
    "        return Number(super().__rmul__(other))\n",
    "    \n",
    "    def __truediv__(self, other):\n",
    "        Number.operation_counter += 1\n",
    "        return Number(super().__truediv__(other))\n",
    "    \n",
    "    def __rtruediv__(self, other):\n",
    "        Number.operation_counter += 1\n",
    "        return Number(super().__rtruediv__(other))\n",
    "    \n",
    "    def counter_reset():\n",
    "        Number.operation_counter = 0"
   ]
  },
  {
   "cell_type": "markdown",
   "metadata": {},
   "source": [
    "Generowanie macierzy"
   ]
  },
  {
   "cell_type": "code",
   "execution_count": 3,
   "metadata": {},
   "outputs": [],
   "source": [
    "def random_matrix(matrix_size, min_val, max_val):\n",
    "    \"\"\"Return matrix with random Number floats from [min_val, max_val)\"\"\"\n",
    "    matrix = (max_val - min_val) * np.random.random(matrix_size) + min_val\n",
    "    return np.array([[Number(value) for value in row] for row in matrix], dtype=Number)\n",
    "\n",
    "def transform_to_float(A):\n",
    "    \"\"\"np.linalg.inv doesnt work with dtype=Number\"\"\"\n",
    "    return np.array(A, dtype=float)"
   ]
  },
  {
   "cell_type": "code",
   "execution_count": 4,
   "metadata": {},
   "outputs": [],
   "source": [
    "exp = 2\n",
    "matrix_size = (2**exp, 2**exp)\n",
    "\n",
    "min_val = 0.00000001\n",
    "max_val = 1\n",
    "\n",
    "A = random_matrix(matrix_size, min_val, max_val)"
   ]
  },
  {
   "cell_type": "markdown",
   "metadata": {},
   "source": [
    "### Rekurencyjne odwracanie macierzy"
   ]
  },
  {
   "cell_type": "code",
   "execution_count": 5,
   "metadata": {},
   "outputs": [],
   "source": [
    "def inverse(A):\n",
    "    if A.shape[0] != A.shape[1]:\n",
    "        print(\"ERROR: Wrong matrix size!\")\n",
    "        return None\n",
    "    \n",
    "    if len(A) == 1:\n",
    "        return np.array([[1/A[0,0]]])\n",
    "    \n",
    "    if len(A) == 2:\n",
    "        return np.array(\n",
    "            [[A[1,1], -A[0,1]],\n",
    "             [-A[1, 0], A[0,0]]]\n",
    "        ) / (A[0,0]*A[1,1] - A[0,1]*A[1,0])\n",
    "        \n",
    "    matrix_size = len(A)\n",
    "    A11 = A[:matrix_size//2, :matrix_size//2]\n",
    "    A12 = A[:matrix_size//2, matrix_size//2:]\n",
    "    A21 = A[matrix_size//2:, :matrix_size//2]\n",
    "    A22 = A[matrix_size//2:, matrix_size//2:]\n",
    "    \n",
    "    A11_inv = inverse(A11)\n",
    "    S22 = A22 - A21 @ A11_inv @ A12\n",
    "    S22_inv = inverse(S22)\n",
    "    B11 = A11_inv @ (np.identity(len(A11)) + A12 @ S22_inv @ A21 @ A11_inv)\n",
    "    B12 = -A11_inv @ A12 @ S22_inv\n",
    "    B21 = -S22_inv @ A21 @ A11_inv\n",
    "    B22 = S22_inv\n",
    "    \n",
    "    return np.vstack((np.hstack((B11, B12)), np.hstack((B21, B22))))"
   ]
  },
  {
   "cell_type": "code",
   "execution_count": 6,
   "metadata": {},
   "outputs": [
    {
     "name": "stdout",
     "output_type": "stream",
     "text": [
      "Matrix size: (4, 4)\n",
      "Number of operations: 134\n",
      "Is correct?: True\n"
     ]
    }
   ],
   "source": [
    "Number.counter_reset()\n",
    "res = inverse(A)\n",
    "\n",
    "print(f\"Matrix size: {matrix_size}\")\n",
    "print(\"Number of operations:\", Number.operation_counter)\n",
    "print(\"Is correct?:\", np.allclose(transform_to_float(res), np.linalg.inv(transform_to_float(A))))"
   ]
  },
  {
   "cell_type": "markdown",
   "metadata": {},
   "source": [
    "### Rekurencyjna LU faktoryzacja"
   ]
  },
  {
   "cell_type": "code",
   "execution_count": 7,
   "metadata": {},
   "outputs": [],
   "source": [
    "def LU_factorization(A):\n",
    "    if A.shape[0] != A.shape[1]:\n",
    "        print(\"ERROR: Wrong matrix size!\")\n",
    "        return None\n",
    "    \n",
    "    if len(A) == 1:\n",
    "        L = np.array([[Number(1.0)]], dtype=Number)\n",
    "        U = A.copy()\n",
    "        return L, U\n",
    "    \n",
    "    matrix_size = len(A)\n",
    "    A11 = A[:matrix_size//2, :matrix_size//2]\n",
    "    A12 = A[:matrix_size//2, matrix_size//2:]\n",
    "    A21 = A[matrix_size//2:, :matrix_size//2]\n",
    "    A22 = A[matrix_size//2:, matrix_size//2:]\n",
    "    \n",
    "    L11, U11 = LU_factorization(A11)\n",
    "    U11_inv = inverse(U11)\n",
    "    L21 = A21 @ U11_inv\n",
    "    L11_inv = inverse(L11)\n",
    "    U12 = L11_inv @ A12\n",
    "    S = A22 - A21 @ U11_inv @ L11_inv @ A12\n",
    "    LS, US = LU_factorization(S)\n",
    "    \n",
    "    L = np.vstack((np.hstack((L11, np.zeros(A11.shape))), np.hstack((L21, LS))))\n",
    "    U = np.vstack((np.hstack((U11, U12)), np.hstack((np.zeros(A11.shape), US))))\n",
    "    return L, U"
   ]
  },
  {
   "cell_type": "code",
   "execution_count": 8,
   "metadata": {},
   "outputs": [
    {
     "name": "stdout",
     "output_type": "stream",
     "text": [
      "Matrix size: (4, 4)\n",
      "Number of operations: 86\n",
      "Is correct?: True\n"
     ]
    }
   ],
   "source": [
    "Number.counter_reset()\n",
    "L, U = LU_factorization(A)\n",
    "\n",
    "print(f\"Matrix size: {matrix_size}\")\n",
    "print(\"Number of operations:\", Number.operation_counter)\n",
    "print(\"Is correct?:\", np.allclose(transform_to_float(A), transform_to_float(L @ U)))\n"
   ]
  },
  {
   "cell_type": "markdown",
   "metadata": {},
   "source": [
    "### Rekurencyjne obliczanie wyznacznika"
   ]
  },
  {
   "cell_type": "code",
   "execution_count": 9,
   "metadata": {},
   "outputs": [],
   "source": [
    "def det(A):\n",
    "    L, U = LU_factorization(A)\n",
    "    result = 1\n",
    "    for i in range(len(A)):\n",
    "        result *= L[i, i] * U[i, i]\n",
    "    return result"
   ]
  },
  {
   "cell_type": "code",
   "execution_count": 10,
   "metadata": {},
   "outputs": [
    {
     "name": "stdout",
     "output_type": "stream",
     "text": [
      "Matrix size: (4, 4)\n",
      "Number of operations: 94\n",
      "Is correct?: True\n"
     ]
    }
   ],
   "source": [
    "Number.counter_reset()\n",
    "A_det = det(A)\n",
    "\n",
    "print(f\"Matrix size: {matrix_size}\")\n",
    "print(\"Number of operations:\", Number.operation_counter)\n",
    "print(\"Is correct?:\", abs(A_det - np.linalg.det(transform_to_float(A))) < 1e-8)"
   ]
  },
  {
   "cell_type": "markdown",
   "metadata": {},
   "source": [
    "### Testy"
   ]
  },
  {
   "cell_type": "code",
   "execution_count": 11,
   "metadata": {},
   "outputs": [],
   "source": [
    "sizes = [2 ** e for e in range(1, 8)]"
   ]
  },
  {
   "cell_type": "code",
   "execution_count": 12,
   "metadata": {},
   "outputs": [],
   "source": [
    "res_times = []\n",
    "res_operations = []\n",
    "\n",
    "for n in sizes:\n",
    "    A = random_matrix((n, n), min_val, max_val)\n",
    "    \n",
    "    Number.counter_reset()\n",
    "    t_start = time()\n",
    "    inverse(A)\n",
    "    inverse_time = time() - t_start\n",
    "    inverse_op = Number.operation_counter\n",
    "    \n",
    "    Number.counter_reset()\n",
    "    t_start = time()\n",
    "    LU_factorization(A)\n",
    "    lu_time = time() - t_start\n",
    "    lu_op = Number.operation_counter\n",
    "    \n",
    "    Number.counter_reset()\n",
    "    t_start = time()\n",
    "    det(A)\n",
    "    det_time = time() - t_start\n",
    "    det_op = Number.operation_counter\n",
    "    \n",
    "    res_times.append((inverse_time, lu_time, det_time))\n",
    "    res_operations.append((inverse_op, lu_op, det_op))\n"
   ]
  },
  {
   "cell_type": "code",
   "execution_count": 13,
   "metadata": {},
   "outputs": [
    {
     "name": "stdout",
     "output_type": "stream",
     "text": [
      "[0.0, 0.0010004043579101562, 0.001001119613647461, 0.006001949310302734, 0.04471921920776367, 0.36334824562072754, 2.9337551593780518]\n",
      "[0.0, 0.0, 0.00099945068359375, 0.0070002079010009766, 0.03673744201660156, 0.3025834560394287, 2.236036539077759]\n",
      "[0.0, 0.0, 0.0009996891021728516, 0.0048828125, 0.03705596923828125, 0.3551802635192871, 2.287510871887207]\n"
     ]
    }
   ],
   "source": [
    "res_times = np.array(res_times)\n",
    "print([x[0] for x in res_times])\n",
    "print([x[1] for x in res_times])\n",
    "print([x[2] for x in res_times])"
   ]
  },
  {
   "cell_type": "code",
   "execution_count": 23,
   "metadata": {},
   "outputs": [
    {
     "name": "stdout",
     "output_type": "stream",
     "text": [
      "[3, 134, 1420, 12568, 105008, 857184, 6924480]\n",
      "[8, 86, 944, 9200, 81032, 677096, 5525512]\n",
      "[12, 94, 960, 9232, 81096, 677224, 5525768]\n"
     ]
    }
   ],
   "source": [
    "res_operations = np.array(res_operations)\n",
    "print([x[0] for x in res_operations])\n",
    "print([x[1] for x in res_operations])\n",
    "print([x[2] for x in res_operations])"
   ]
  },
  {
   "cell_type": "code",
   "execution_count": 29,
   "metadata": {},
   "outputs": [
    {
     "name": "stdout",
     "output_type": "stream",
     "text": [
      "------------------------------------Times------------------------------------\n",
      "         2      4         8         16        32        64        128\n",
      "Inverse  0.0  0.001  0.001001  0.006002  0.044719  0.363348  2.933755\n",
      "LU       0.0    0.0  0.000999     0.007  0.036737  0.302583  2.236037\n",
      "det      0.0    0.0     0.001  0.004883  0.037056   0.35518  2.287511\n"
     ]
    }
   ],
   "source": [
    "\n",
    "df = pd.DataFrame(index = [\"Inverse\", \"LU\", \"det\"], columns = sizes)\n",
    "df.loc['Inverse'] = res_times[:, 0]\n",
    "df.loc['LU'] = res_times[:, 1]\n",
    "df.loc['det'] = res_times[:, 2]\n",
    "print(\"------------------------------------Times------------------------------------\")\n",
    "print(df)"
   ]
  },
  {
   "cell_type": "code",
   "execution_count": 31,
   "metadata": {},
   "outputs": [
    {
     "name": "stdout",
     "output_type": "stream",
     "text": [
      "--------------------------Floating point operations--------------------------\n",
      "        2    4     8      16      32      64       128\n",
      "Inverse   3  134  1420  12568  105008  857184  6924480\n",
      "LU        8   86   944   9200   81032  677096  5525512\n",
      "det      12   94   960   9232   81096  677224  5525768\n"
     ]
    }
   ],
   "source": [
    "df1 = pd.DataFrame(index = [\"Inverse\", \"LU\", \"det\"], columns = sizes)\n",
    "df1.loc['Inverse'] = res_operations[:, 0]\n",
    "df1.loc['LU'] = res_operations[:, 1]\n",
    "df1.loc['det'] = res_operations[:, 2]\n",
    "print(\"--------------------------Floating point operations--------------------------\")\n",
    "print(df1)"
   ]
  },
  {
   "cell_type": "markdown",
   "metadata": {},
   "source": [
    "Wykresy"
   ]
  },
  {
   "cell_type": "code",
   "execution_count": null,
   "metadata": {},
   "outputs": [],
   "source": [
    "plt.plot(sizes, res_times)\n",
    "plt.title(\"times comparision\")\n",
    "plt.xlabel(\"size\")\n",
    "plt.ylabel(\"time [s]\")\n",
    "plt.xticks(sizes)\n",
    "plt.legend((\"inverse\", \"lu_factorization\", \"determinant\"))\n",
    "plt.show()"
   ]
  },
  {
   "cell_type": "code",
   "execution_count": null,
   "metadata": {},
   "outputs": [],
   "source": [
    "plt.plot(sizes, res_operations)\n",
    "plt.title(\"no_operations comparision\")\n",
    "plt.xlabel(\"size\")\n",
    "plt.ylabel(\"number of operations\")\n",
    "plt.xticks(sizes)\n",
    "plt.legend((\"inverse\", \"lu_factorization\", \"determinant\"))\n",
    "plt.show()"
   ]
  },
  {
   "cell_type": "markdown",
   "metadata": {},
   "source": [
    "# Złożoność"
   ]
  },
  {
   "cell_type": "code",
   "execution_count": 32,
   "metadata": {},
   "outputs": [],
   "source": [
    "from scipy.optimize import curve_fit"
   ]
  },
  {
   "cell_type": "code",
   "execution_count": 33,
   "metadata": {},
   "outputs": [],
   "source": [
    "def func(x, a, b):\n",
    "    return a * np.power(x,b)"
   ]
  },
  {
   "cell_type": "code",
   "execution_count": 40,
   "metadata": {},
   "outputs": [],
   "source": [
    "x_data = sizes\n",
    "y_det_op = res_operations[:, 2]\n",
    "y_lu_op = res_operations[:, 1]\n",
    "y_inv_op = res_operations[:, 0]\n",
    "\n",
    "y_det_time = res_times[:, 2]\n",
    "y_lu_time = res_times[:, 1]\n",
    "y_inv_time = res_times[:, 0]"
   ]
  },
  {
   "cell_type": "code",
   "execution_count": 47,
   "metadata": {},
   "outputs": [
    {
     "name": "stdout",
     "output_type": "stream",
     "text": [
      "[3.07741239 3.01450861] \n",
      " [[ 1.80399444e-04 -1.21046245e-05]\n",
      " [-1.21046245e-05  8.12471307e-07]]\n"
     ]
    }
   ],
   "source": [
    "params_inv_op, cov_inv_op = curve_fit(func, x_data, y_inv_op)\n",
    "print(params_inv_op, \"\\n\",  cov_inv_op)"
   ]
  },
  {
   "cell_type": "code",
   "execution_count": 48,
   "metadata": {},
   "outputs": [
    {
     "name": "stdout",
     "output_type": "stream",
     "text": [
      "[1.31023574e-06 3.01349882e+00] \n",
      " [[ 1.44793968e-16 -2.28193894e-11]\n",
      " [-2.28193894e-11  3.59747975e-06]]\n"
     ]
    }
   ],
   "source": [
    "params_inv_time, cov_inv_time = curve_fit(func, x_data, y_inv_time)\n",
    "print(params_inv_time, \"\\n\",  cov_inv_time)"
   ]
  },
  {
   "cell_type": "markdown",
   "metadata": {},
   "source": [
    "------------------------------------------------------------------------------------------------"
   ]
  },
  {
   "cell_type": "code",
   "execution_count": 49,
   "metadata": {},
   "outputs": [
    {
     "name": "stdout",
     "output_type": "stream",
     "text": [
      "[2.28086866 3.02972878] \n",
      " [[ 4.80811955e-04 -4.35270603e-05]\n",
      " [-4.35270603e-05  3.94167638e-06]]\n"
     ]
    }
   ],
   "source": [
    "params_lu_op, cov_lu_op = curve_fit(func, x_data, y_lu_op)\n",
    "print(params_lu_op, \"\\n\",  cov_lu_op)"
   ]
  },
  {
   "cell_type": "code",
   "execution_count": 50,
   "metadata": {},
   "outputs": [
    {
     "name": "stdout",
     "output_type": "stream",
     "text": [
      "[1.81601510e-06 2.89025392e+00] \n",
      " [[ 6.31604280e-15 -7.18430949e-10]\n",
      " [-7.18430949e-10  8.17510111e-05]]\n"
     ]
    }
   ],
   "source": [
    "params_lu_time, cov_lu_time = curve_fit(func, x_data, y_lu_time)\n",
    "print(params_lu_time, \"\\n\",  cov_lu_time)"
   ]
  },
  {
   "cell_type": "markdown",
   "metadata": {},
   "source": [
    "-------------------------------------------"
   ]
  },
  {
   "cell_type": "code",
   "execution_count": 51,
   "metadata": {},
   "outputs": [
    {
     "name": "stdout",
     "output_type": "stream",
     "text": [
      "[2.2834843  3.02950209] \n",
      " [[ 4.61316591e-04 -4.17143681e-05]\n",
      " [-4.17143681e-05  3.77320028e-06]]\n"
     ]
    }
   ],
   "source": [
    "params_det_op, cov_det_op = curve_fit(func, x_data, y_det_op)\n",
    "print(params_det_op, \"\\n\", cov_det_op)"
   ]
  },
  {
   "cell_type": "code",
   "execution_count": 52,
   "metadata": {},
   "outputs": [
    {
     "name": "stdout",
     "output_type": "stream",
     "text": [
      "[4.47765654e-06 2.70898018e+00] \n",
      " [[ 4.60195563e-13 -2.12440762e-08]\n",
      " [-2.12440762e-08  9.81187649e-04]]\n"
     ]
    }
   ],
   "source": [
    "params_det_time, cov_det_time = curve_fit(func, x_data, y_det_time)\n",
    "print(params_det_time, \"\\n\",  cov_det_time)"
   ]
  },
  {
   "cell_type": "code",
   "execution_count": null,
   "metadata": {},
   "outputs": [],
   "source": []
  }
 ],
 "metadata": {
  "kernelspec": {
   "display_name": "Python 3 (ipykernel)",
   "language": "python",
   "name": "python3"
  },
  "language_info": {
   "codemirror_mode": {
    "name": "ipython",
    "version": 3
   },
   "file_extension": ".py",
   "mimetype": "text/x-python",
   "name": "python",
   "nbconvert_exporter": "python",
   "pygments_lexer": "ipython3",
   "version": "3.9.12"
  }
 },
 "nbformat": 4,
 "nbformat_minor": 2
}
