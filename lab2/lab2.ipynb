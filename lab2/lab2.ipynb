{
 "cells": [
  {
   "cell_type": "markdown",
   "metadata": {},
   "source": [
    "# Algorytmy macierzowe\n",
    "## lab 2"
   ]
  },
  {
   "cell_type": "code",
   "execution_count": 1,
   "metadata": {},
   "outputs": [],
   "source": [
    "import numpy as np\n",
    "from time import time\n",
    "from matplotlib import pyplot as plt"
   ]
  },
  {
   "cell_type": "markdown",
   "metadata": {},
   "source": [
    "Własna klasa Number do zliczania ilości operacji"
   ]
  },
  {
   "cell_type": "code",
   "execution_count": 4,
   "metadata": {},
   "outputs": [],
   "source": [
    "class Number(float):\n",
    "    operation_counter = 0\n",
    "    \n",
    "    def __radd__(self, other):\n",
    "        Number.operation_counter += 1\n",
    "        return Number(super().__radd__(other))\n",
    "\n",
    "    def __add__(self, other):\n",
    "        Number.operation_counter += 1\n",
    "        return Number(super().__add__(other))\n",
    "    \n",
    "    def __rsub__(self, other):\n",
    "        Number.operation_counter += 1\n",
    "        return Number(super().__rsub__(other))\n",
    "\n",
    "    def __sub__(self, other):\n",
    "        Number.operation_counter += 1\n",
    "        return Number(super().__sub__(other))\n",
    "    \n",
    "    def __mul__ (self, other):\n",
    "        Number.operation_counter += 1\n",
    "        return Number(super().__mul__(other))\n",
    "    \n",
    "    def __rmul__ (self, other):\n",
    "        Number.operation_counter += 1\n",
    "        return Number(super().__rmul__(other))\n",
    "    \n",
    "    def __truediv__(self, other):\n",
    "        Number.operation_counter += 1\n",
    "        return Number(super().__truediv__(other))\n",
    "    \n",
    "    def __rtruediv__(self, other):\n",
    "        Number.operation_counter += 1\n",
    "        return Number(super().__rtruediv__(other))\n",
    "    \n",
    "    def counter_reset():\n",
    "        Number.operation_counter = 0"
   ]
  },
  {
   "cell_type": "markdown",
   "metadata": {},
   "source": [
    "Generowanie macierzy"
   ]
  },
  {
   "cell_type": "code",
   "execution_count": 2,
   "metadata": {},
   "outputs": [],
   "source": [
    "def random_matrix(matrix_size, min_val, max_val):\n",
    "    \"\"\"Return matrix with random floats from [min_val, max_val)\"\"\"\n",
    "    return (max_val - min_val) * np.random.random(matrix_size) + min_val"
   ]
  },
  {
   "cell_type": "code",
   "execution_count": 6,
   "metadata": {},
   "outputs": [],
   "source": [
    "exp = 3\n",
    "matrix_size = (2**exp, 2**exp)\n",
    "\n",
    "min_val = 0.00000001\n",
    "max_val = 1\n",
    "\n",
    "A = random_matrix(matrix_size, min_val, max_val)\n",
    "B = random_matrix(matrix_size, min_val, max_val)"
   ]
  },
  {
   "cell_type": "markdown",
   "metadata": {},
   "source": [
    "### Rekurencyjne odwracanie macierzy"
   ]
  },
  {
   "cell_type": "code",
   "execution_count": null,
   "metadata": {},
   "outputs": [],
   "source": []
  },
  {
   "cell_type": "markdown",
   "metadata": {},
   "source": [
    "### Rekurencyjna LU faktoryzacja"
   ]
  },
  {
   "cell_type": "code",
   "execution_count": null,
   "metadata": {},
   "outputs": [],
   "source": []
  },
  {
   "cell_type": "markdown",
   "metadata": {},
   "source": [
    "### Rekurencyjne obliczanie wyznacznika"
   ]
  },
  {
   "cell_type": "code",
   "execution_count": null,
   "metadata": {},
   "outputs": [],
   "source": []
  }
 ],
 "metadata": {
  "kernelspec": {
   "display_name": "Python 3",
   "language": "python",
   "name": "python3"
  },
  "language_info": {
   "codemirror_mode": {
    "name": "ipython",
    "version": 3
   },
   "file_extension": ".py",
   "mimetype": "text/x-python",
   "name": "python",
   "nbconvert_exporter": "python",
   "pygments_lexer": "ipython3",
   "version": "3.11.6"
  }
 },
 "nbformat": 4,
 "nbformat_minor": 2
}
