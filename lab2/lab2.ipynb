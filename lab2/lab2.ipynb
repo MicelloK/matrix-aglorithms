{
 "cells": [
  {
   "cell_type": "markdown",
   "metadata": {},
   "source": [
    "# Algorytmy macierzowe\n",
    "## lab 2"
   ]
  },
  {
   "cell_type": "code",
   "execution_count": 1,
   "metadata": {},
   "outputs": [],
   "source": [
    "import numpy as np\n",
    "from time import time\n",
    "from matplotlib import pyplot as plt\n",
    "import pandas as pd"
   ]
  },
  {
   "cell_type": "markdown",
   "metadata": {},
   "source": [
    "Własna klasa Number do zliczania ilości operacji"
   ]
  },
  {
   "cell_type": "code",
   "execution_count": 2,
   "metadata": {},
   "outputs": [],
   "source": [
    "class Number(float):\n",
    "    operation_counter = 0\n",
    "    \n",
    "    def __repr__(self) -> str:\n",
    "        return f\"{self:.8f}\"\n",
    "    \n",
    "    def __radd__(self, other):\n",
    "        Number.operation_counter += 1\n",
    "        return Number(super().__radd__(other))\n",
    "\n",
    "    def __add__(self, other):\n",
    "        Number.operation_counter += 1\n",
    "        return Number(super().__add__(other))\n",
    "    \n",
    "    def __rsub__(self, other):\n",
    "        Number.operation_counter += 1\n",
    "        return Number(super().__rsub__(other))\n",
    "\n",
    "    def __sub__(self, other):\n",
    "        Number.operation_counter += 1\n",
    "        return Number(super().__sub__(other))\n",
    "    \n",
    "    def __mul__ (self, other):\n",
    "        Number.operation_counter += 1\n",
    "        return Number(super().__mul__(other))\n",
    "    \n",
    "    def __rmul__ (self, other):\n",
    "        Number.operation_counter += 1\n",
    "        return Number(super().__rmul__(other))\n",
    "    \n",
    "    def __truediv__(self, other):\n",
    "        Number.operation_counter += 1\n",
    "        return Number(super().__truediv__(other))\n",
    "    \n",
    "    def __rtruediv__(self, other):\n",
    "        Number.operation_counter += 1\n",
    "        return Number(super().__rtruediv__(other))\n",
    "    \n",
    "    def counter_reset():\n",
    "        Number.operation_counter = 0"
   ]
  },
  {
   "cell_type": "markdown",
   "metadata": {},
   "source": [
    "Generowanie macierzy"
   ]
  },
  {
   "cell_type": "code",
   "execution_count": 3,
   "metadata": {},
   "outputs": [],
   "source": [
    "def random_matrix(matrix_size, min_val, max_val):\n",
    "    \"\"\"Return matrix with random Number floats from [min_val, max_val)\"\"\"\n",
    "    matrix = (max_val - min_val) * np.random.random(matrix_size) + min_val\n",
    "    return np.array([[Number(value) for value in row] for row in matrix], dtype=Number)\n",
    "\n",
    "def transform_to_float(A):\n",
    "    \"\"\"np.linalg.inv doesnt work with dtype=Number\"\"\"\n",
    "    return np.array(A, dtype=float)"
   ]
  },
  {
   "cell_type": "code",
   "execution_count": 68,
   "metadata": {},
   "outputs": [],
   "source": [
    "exp = 4\n",
    "matrix_size = (2**exp, 2**exp)\n",
    "\n",
    "min_val = 0.00000001\n",
    "max_val = 1\n",
    "\n",
    "A_test = random_matrix(matrix_size, min_val, max_val)"
   ]
  },
  {
   "cell_type": "code",
   "execution_count": 69,
   "metadata": {},
   "outputs": [],
   "source": [
    "def strassen_mlt(A,B):\n",
    "    n = len(A)\n",
    "    if(n==2):\n",
    "        a00 = A[0,0]*B[0,0] + A[0,1]*B[1,0]\n",
    "        a01 = A[0,0]*B[0,1] + A[0,1]*B[1,1]\n",
    "        \n",
    "        a10 = A[1,0]*B[0,0] + A[1,1]*B[1,0]\n",
    "        a11 = A[1,0]*B[0,1] + A[1,1]*B[1,1]\n",
    "        \n",
    "        return np.array([[a00,a01],\n",
    "                         [a10,a11]], dtype = Number)\n",
    "        \n",
    "    A11 = A[:n//2, :n//2]\n",
    "    B11 = B[:n//2, :n//2]\n",
    "\n",
    "    A12 = A[:n//2, (n//2):]\n",
    "    B12 = B[:n//2, (n//2):]\n",
    "\n",
    "    A21 = A[(n//2): , :n//2]\n",
    "    B21 = B[(n//2): , :n//2]\n",
    "\n",
    "    A22 = A[(n//2): , (n//2):]\n",
    "    B22 = B[(n//2): , (n//2):]\n",
    "    \n",
    "    P1 = strassen_mlt((A11 + A22), (B11 + B22))\n",
    "    P2 = strassen_mlt((A21 + A22), B11)\n",
    "    P3 = strassen_mlt(A11, (B12 - B22))\n",
    "    P4 = strassen_mlt(A22, (B21 - B11))\n",
    "    P5 = strassen_mlt((A11 + A12), B22)\n",
    "    P6 = strassen_mlt((A21 - A11), (B11 + B12))\n",
    "    P7 = strassen_mlt((A12 - A22), (B21 + B22))\n",
    "    \n",
    "    C11 = (P1 + P4 - P5 + P7)\n",
    "    C12 = (P3 + P5)\n",
    "    C21 = (P2 + P4)\n",
    "    C22 = (P1 - P2 + P3 + P6)\n",
    "\n",
    "    result = np.empty((n, n), dtype = Number)\n",
    "    result[:n // 2, :n // 2] = C11\n",
    "    result[:n // 2, n // 2:] = C12\n",
    "    result[n // 2:, :n // 2] = C21\n",
    "    result[n // 2:, n // 2:] = C22\n",
    "    \n",
    "    return result\n",
    "\n",
    "def strassen_mlt_many(*matrices):\n",
    "    if len(matrices) < 2:\n",
    "        print(\"ERROR: At least 2 matrices are required!\")\n",
    "        return None\n",
    "    \n",
    "    result = matrices[0]\n",
    "    for matrix in matrices[1:]:\n",
    "        result = strassen_mlt(result, matrix)\n",
    "    return result"
   ]
  },
  {
   "cell_type": "markdown",
   "metadata": {},
   "source": [
    "### Rekurencyjne odwracanie macierzy"
   ]
  },
  {
   "cell_type": "code",
   "execution_count": 70,
   "metadata": {},
   "outputs": [],
   "source": [
    "def inverse(A):\n",
    "    if A.shape[0] != A.shape[1]:\n",
    "        print(\"ERROR: Wrong matrix size!\")\n",
    "        return None\n",
    "    \n",
    "    if len(A) == 2:\n",
    "        return np.array(\n",
    "            [[A[1, 1], -A[0, 1]],\n",
    "             [-A[1, 0], A[0, 0]]], dtype = Number) / (A[0, 0] * A[1, 1] - A[0, 1] * A[1, 0])\n",
    "\n",
    "    matrix_size = len(A)\n",
    "    A11 = A[:matrix_size // 2, :matrix_size // 2]\n",
    "    A12 = A[:matrix_size // 2, matrix_size // 2:]\n",
    "    A21 = A[matrix_size // 2:, :matrix_size // 2]\n",
    "    A22 = A[matrix_size // 2:, matrix_size // 2:]\n",
    "\n",
    "   \n",
    "\n",
    "    A11_inv = inverse(A11)\n",
    "    S22 = A22 - strassen_mlt(A21, strassen_mlt(A11_inv, A12))\n",
    "    S22_inv = inverse(S22)\n",
    "\n",
    "    B11_2 = np.identity(len(A11), dtype = Number) + strassen_mlt(strassen_mlt(A12, S22_inv), strassen_mlt(A21, A11_inv))\n",
    "    B11 = strassen_mlt(A11_inv, B11_2)\n",
    "\n",
    "    B12 = strassen_mlt(-A11_inv, strassen_mlt(A12, S22_inv))\n",
    "    B21 = strassen_mlt(-S22_inv, strassen_mlt(A21, A11_inv))\n",
    "    B22 = S22_inv\n",
    "    \n",
    "    res = np.empty(A.shape, dtype = Number)\n",
    "    res[:matrix_size // 2, :matrix_size // 2] = B11\n",
    "    res[:matrix_size // 2, matrix_size // 2:] = B12\n",
    "    res[matrix_size // 2:, :matrix_size // 2] = B21\n",
    "    res[matrix_size // 2:, matrix_size // 2:] = B22\n",
    "    return res\n",
    "\n",
    "\n",
    "\n",
    "    #return np.vstack((np.hstack((B11, B12)), np.hstack((B21, B22))))"
   ]
  },
  {
   "cell_type": "code",
   "execution_count": 71,
   "metadata": {},
   "outputs": [
    {
     "name": "stdout",
     "output_type": "stream",
     "text": [
      "Matrix size: (16, 16)\n",
      "Number of operations: 17144\n",
      "Is correct?: True\n"
     ]
    }
   ],
   "source": [
    "Number.counter_reset()\n",
    "res = inverse(A_test)\n",
    "\n",
    "print(f\"Matrix size: {matrix_size}\")\n",
    "print(\"Number of operations:\", Number.operation_counter)\n",
    "print(\"Is correct?:\", np.allclose(transform_to_float(res), np.linalg.inv(transform_to_float(A_test))))"
   ]
  },
  {
   "cell_type": "markdown",
   "metadata": {},
   "source": [
    "### Rekurencyjna LU faktoryzacja"
   ]
  },
  {
   "cell_type": "code",
   "execution_count": 72,
   "metadata": {},
   "outputs": [],
   "source": [
    "def LU_factorization(A):\n",
    "    if A.shape[0] != A.shape[1]:\n",
    "        print(\"ERROR: Wrong matrix size!\")\n",
    "        return None\n",
    "\n",
    "    if len(A) == 1:\n",
    "        L = np.array([[Number(1.0)]], dtype=Number)\n",
    "        U = A.copy()\n",
    "        return L, U\n",
    "\n",
    "    if len(A) == 2:\n",
    "        a00 = A[0, 0]\n",
    "        a01 = A[0, 1]\n",
    "        a10 = A[1, 0]\n",
    "        a11 = A[1, 1]\n",
    "\n",
    "        L = np.array([[1.0, 0.0],\n",
    "                      [a10 / a00, 1.0]], dtype=Number)\n",
    "\n",
    "        U = np.array([[a00, a01],\n",
    "                      [0.0, a11 - (a10 / a00) * a01]], dtype=Number)\n",
    "        return L, U\n",
    "\n",
    "    matrix_size = len(A)\n",
    "    A11 = A[:matrix_size // 2, :matrix_size // 2]\n",
    "    A12 = A[:matrix_size // 2, matrix_size // 2:]\n",
    "    A21 = A[matrix_size // 2:, :matrix_size // 2]\n",
    "    A22 = A[matrix_size // 2:, matrix_size // 2:]\n",
    "\n",
    "    L11, U11 = LU_factorization(A11)\n",
    "    U11_inv = inverse(U11)\n",
    "    L21 = strassen_mlt(A21, U11_inv)\n",
    "    L11_inv = inverse(L11)\n",
    "    U12 = strassen_mlt(L11_inv, A12)\n",
    "    S = A22 - strassen_mlt(strassen_mlt(A21, U11_inv), strassen_mlt(L11_inv, A12))\n",
    "\n",
    "    LS, US = LU_factorization(S)\n",
    "    \n",
    "    L = np.zeros(A.shape, dtype = Number)\n",
    "    U = np.zeros(A.shape, dtype = Number)\n",
    "    \n",
    "    L[:matrix_size // 2, :matrix_size // 2] = L11\n",
    "    L[matrix_size // 2:, :matrix_size // 2] = L21\n",
    "    L[matrix_size // 2:, matrix_size // 2:] = LS\n",
    "    \n",
    "    U[:matrix_size // 2, :matrix_size // 2] = U11\n",
    "    U[:matrix_size // 2, matrix_size // 2:] = U12\n",
    "    U[matrix_size // 2:, matrix_size // 2:] = US\n",
    "    \n",
    "    \n",
    "    return L, U\n",
    "\n",
    "    #L = np.vstack((np.hstack((L11, np.zeros(A11.shape))), np.hstack((L21, LS))))\n",
    "    #U = np.vstack((np.hstack((U11, U12)), np.hstack((np.zeros(A11.shape), US))))\n",
    "    #return L, U"
   ]
  },
  {
   "cell_type": "code",
   "execution_count": 73,
   "metadata": {},
   "outputs": [
    {
     "name": "stdout",
     "output_type": "stream",
     "text": [
      "Matrix size: (16, 16)\n",
      "Number of operations: 12847\n",
      "Is correct?: True\n"
     ]
    }
   ],
   "source": [
    "Number.counter_reset()\n",
    "L, U = LU_factorization(A_test)\n",
    "\n",
    "print(f\"Matrix size: {matrix_size}\")\n",
    "print(\"Number of operations:\", Number.operation_counter)\n",
    "print(\"Is correct?:\", np.allclose(transform_to_float(A_test), transform_to_float(L @ U)))\n"
   ]
  },
  {
   "cell_type": "markdown",
   "metadata": {},
   "source": [
    "### Rekurencyjne obliczanie wyznacznika"
   ]
  },
  {
   "cell_type": "code",
   "execution_count": 74,
   "metadata": {},
   "outputs": [],
   "source": [
    "def det(A):\n",
    "    L, U = LU_factorization(A)\n",
    "    result = np.prod(np.diagonal(L)*np.diagonal(U))\n",
    "    return result"
   ]
  },
  {
   "cell_type": "code",
   "execution_count": 75,
   "metadata": {},
   "outputs": [
    {
     "name": "stdout",
     "output_type": "stream",
     "text": [
      "Matrix size: (16, 16)\n",
      "Number of operations: 12878\n",
      "Is correct?: True\n"
     ]
    }
   ],
   "source": [
    "Number.counter_reset()\n",
    "A_det = det(A_test)\n",
    "\n",
    "print(f\"Matrix size: {matrix_size}\")\n",
    "print(\"Number of operations:\", Number.operation_counter)\n",
    "print(\"Is correct?:\", abs(A_det - np.linalg.det(transform_to_float(A_test))) < 1e-8)"
   ]
  },
  {
   "cell_type": "markdown",
   "metadata": {},
   "source": [
    "### Testy"
   ]
  },
  {
   "cell_type": "code",
   "execution_count": 12,
   "metadata": {},
   "outputs": [],
   "source": [
    "sizes = [2 ** e for e in range(1, 10)]"
   ]
  },
  {
   "cell_type": "code",
   "execution_count": 13,
   "metadata": {},
   "outputs": [],
   "source": [
    "res_times = []\n",
    "res_operations = []\n",
    "\n",
    "for n in sizes:\n",
    "    A = random_matrix((n, n), min_val, max_val)\n",
    "    \n",
    "    Number.counter_reset()\n",
    "    t_start = time()\n",
    "    inverse(A)\n",
    "    inverse_time = time() - t_start\n",
    "    inverse_op = Number.operation_counter\n",
    "    \n",
    "    Number.counter_reset()\n",
    "    t_start = time()\n",
    "    LU_factorization(A)\n",
    "    lu_time = time() - t_start\n",
    "    lu_op = Number.operation_counter\n",
    "    \n",
    "    Number.counter_reset()\n",
    "    t_start = time()\n",
    "    det(A)\n",
    "    det_time = time() - t_start\n",
    "    det_op = Number.operation_counter\n",
    "    \n",
    "    res_times.append((inverse_time, lu_time, det_time))\n",
    "    res_operations.append((inverse_op, lu_op, det_op))\n"
   ]
  },
  {
   "cell_type": "code",
   "execution_count": 14,
   "metadata": {},
   "outputs": [
    {
     "name": "stdout",
     "output_type": "stream",
     "text": [
      "[0.0, 0.0, 0.002000570297241211, 0.012002706527709961, 0.09140348434448242, 0.7240748405456543, 5.39199161529541, 38.50111198425293, 273.529109954834]\n",
      "[0.0, 0.0, 0.0010004043579101562, 0.009001970291137695, 0.07801699638366699, 0.642650842666626, 4.683525323867798, 33.82947278022766, 243.78105783462524]\n",
      "[0.0, 0.0, 0.0, 0.009001970291137695, 0.0780186653137207, 0.6022932529449463, 4.617689609527588, 33.68609356880188, 244.55307984352112]\n"
     ]
    }
   ],
   "source": [
    "res_times = np.array(res_times)\n",
    "print([x[0] for x in res_times])\n",
    "print([x[1] for x in res_times])\n",
    "print([x[2] for x in res_times])"
   ]
  },
  {
   "cell_type": "code",
   "execution_count": 15,
   "metadata": {},
   "outputs": [
    {
     "name": "stdout",
     "output_type": "stream",
     "text": [
      "[5, 138, 1828, 17144, 139200, 1054768, 7712048, 55313424, 392539120]\n",
      "[4, 79, 1199, 12847, 112787, 893767, 6705035, 48805999, 349304051]\n",
      "[8, 87, 1215, 12879, 112851, 893895, 6705291, 48806511, 349305075]\n"
     ]
    }
   ],
   "source": [
    "res_operations = np.array(res_operations)\n",
    "print([x[0] for x in res_operations])\n",
    "print([x[1] for x in res_operations])\n",
    "print([x[2] for x in res_operations])"
   ]
  },
  {
   "cell_type": "code",
   "execution_count": 16,
   "metadata": {},
   "outputs": [
    {
     "name": "stdout",
     "output_type": "stream",
     "text": [
      "------------------------------------Times------------------------------------\n",
      "         2    4         8         16        32        64        128  \\\n",
      "Inverse  0.0  0.0  0.002001  0.012003  0.091403  0.724075  5.391992   \n",
      "LU       0.0  0.0     0.001  0.009002  0.078017  0.642651  4.683525   \n",
      "det      0.0  0.0       0.0  0.009002  0.078019  0.602293   4.61769   \n",
      "\n",
      "               256         512  \n",
      "Inverse  38.501112   273.52911  \n",
      "LU       33.829473  243.781058  \n",
      "det      33.686094   244.55308  \n"
     ]
    }
   ],
   "source": [
    "\n",
    "df = pd.DataFrame(index = [\"Inverse\", \"LU\", \"det\"], columns = sizes)\n",
    "df.loc['Inverse'] = res_times[:, 0]\n",
    "df.loc['LU'] = res_times[:, 1]\n",
    "df.loc['det'] = res_times[:, 2]\n",
    "print(\"------------------------------------Times------------------------------------\")\n",
    "print(df)"
   ]
  },
  {
   "cell_type": "code",
   "execution_count": 17,
   "metadata": {},
   "outputs": [
    {
     "name": "stdout",
     "output_type": "stream",
     "text": [
      "--------------------------Floating point operations--------------------------\n",
      "        2    4     8      16      32       64       128       256        512\n",
      "Inverse   5  138  1828  17144  139200  1054768  7712048  55313424  392539120\n",
      "LU        4   79  1199  12847  112787   893767  6705035  48805999  349304051\n",
      "det       8   87  1215  12879  112851   893895  6705291  48806511  349305075\n"
     ]
    }
   ],
   "source": [
    "df1 = pd.DataFrame(index = [\"Inverse\", \"LU\", \"det\"], columns = sizes)\n",
    "df1.loc['Inverse'] = res_operations[:, 0]\n",
    "df1.loc['LU'] = res_operations[:, 1]\n",
    "df1.loc['det'] = res_operations[:, 2]\n",
    "print(\"--------------------------Floating point operations--------------------------\")\n",
    "print(df1)"
   ]
  },
  {
   "cell_type": "markdown",
   "metadata": {},
   "source": [
    "Wykresy"
   ]
  },
  {
   "cell_type": "code",
   "execution_count": 18,
   "metadata": {},
   "outputs": [
    {
     "data": {
      "image/png": "[encoded data removed]",
      "text/plain": [
       "<Figure size 432x288 with 1 Axes>"
      ]
     },
     "metadata": {
      "needs_background": "light"
     },
     "output_type": "display_data"
    }
   ],
   "source": [
    "plt.plot(sizes, res_times)\n",
    "plt.title(\"times comparision\")\n",
    "plt.xlabel(\"size\")\n",
    "plt.ylabel(\"time [s]\")\n",
    "plt.xticks(sizes)\n",
    "plt.legend((\"inverse\", \"lu_factorization\", \"determinant\"))\n",
    "plt.show()"
   ]
  },
  {
   "cell_type": "code",
   "execution_count": 19,
   "metadata": {},
   "outputs": [
    {
     "data": {
      "image/png": "[encoded data removed]",
      "text/plain": [
       "<Figure size 432x288 with 1 Axes>"
      ]
     },
     "metadata": {
      "needs_background": "light"
     },
     "output_type": "display_data"
    }
   ],
   "source": [
    "plt.plot(sizes, res_operations)\n",
    "plt.title(\"no_operations comparision\")\n",
    "plt.xlabel(\"size\")\n",
    "plt.ylabel(\"number of operations\")\n",
    "plt.xticks(sizes)\n",
    "plt.legend((\"inverse\", \"lu_factorization\", \"determinant\"))\n",
    "plt.show()"
   ]
  },
  {
   "cell_type": "markdown",
   "metadata": {},
   "source": [
    "# Złożoność"
   ]
  },
  {
   "cell_type": "code",
   "execution_count": 20,
   "metadata": {},
   "outputs": [],
   "source": [
    "from scipy.optimize import curve_fit"
   ]
  },
  {
   "cell_type": "code",
   "execution_count": 39,
   "metadata": {},
   "outputs": [],
   "source": [
    "def func(x, a, b):\n",
    "    return a*np.power(x,b)"
   ]
  },
  {
   "cell_type": "code",
   "execution_count": 40,
   "metadata": {},
   "outputs": [],
   "source": [
    "x_data = sizes\n",
    "y_det_op = res_operations[:, 2]\n",
    "y_lu_op = res_operations[:, 1]\n",
    "y_inv_op = res_operations[:, 0]\n",
    "\n",
    "y_det_time = res_times[:, 2]\n",
    "y_lu_time = res_times[:, 1]\n",
    "y_inv_time = res_times[:, 0]"
   ]
  },
  {
   "cell_type": "markdown",
   "metadata": {},
   "source": [
    "-------------------------\n",
    "### Inverse"
   ]
  },
  {
   "cell_type": "code",
   "execution_count": 66,
   "metadata": {},
   "outputs": [
    {
     "name": "stdout",
     "output_type": "stream",
     "text": [
      "[8.56451881 2.82776616] \n",
      " [[ 2.16219871e-03 -4.05500320e-05]\n",
      " [-4.05500320e-05  7.60673003e-07]]\n"
     ]
    }
   ],
   "source": [
    "params_inv_op, cov_inv_op = curve_fit(func, x_data, y_inv_op)\n",
    "print(params_inv_op, \"\\n\",  cov_inv_op)"
   ]
  },
  {
   "cell_type": "code",
   "execution_count": 42,
   "metadata": {},
   "outputs": [
    {
     "name": "stdout",
     "output_type": "stream",
     "text": [
      "[5.91927788e-06 2.82907797e+00] \n",
      " [[ 6.19522855e-16 -1.68106910e-11]\n",
      " [-1.68106910e-11  4.56273022e-07]]\n"
     ]
    }
   ],
   "source": [
    "params_inv_time, cov_inv_time = curve_fit(func, x_data, y_inv_time)\n",
    "print(params_inv_time, \"\\n\",  cov_inv_time)"
   ]
  },
  {
   "cell_type": "markdown",
   "metadata": {},
   "source": [
    "------------------------------------------------------------------------------------------------\n",
    "### LU"
   ]
  },
  {
   "cell_type": "code",
   "execution_count": 43,
   "metadata": {},
   "outputs": [
    {
     "name": "stdout",
     "output_type": "stream",
     "text": [
      "[7.04643666 2.84033601] \n",
      " [[ 3.58794008e-03 -8.17822318e-05]\n",
      " [-8.17822318e-05  1.86458391e-06]]\n"
     ]
    }
   ],
   "source": [
    "params_lu_op, cov_lu_op = curve_fit(func, x_data, y_lu_op)\n",
    "print(params_lu_op, \"\\n\",  cov_lu_op)"
   ]
  },
  {
   "cell_type": "code",
   "execution_count": 44,
   "metadata": {},
   "outputs": [
    {
     "name": "stdout",
     "output_type": "stream",
     "text": [
      "[4.64791955e-06 2.84938080e+00] \n",
      " [[ 7.22723284e-17 -2.49738771e-12]\n",
      " [-2.49738771e-12  8.63192528e-08]]\n"
     ]
    }
   ],
   "source": [
    "params_lu_time, cov_lu_time = curve_fit(func, x_data, y_lu_time)\n",
    "print(params_lu_time, \"\\n\",  cov_lu_time)"
   ]
  },
  {
   "cell_type": "markdown",
   "metadata": {},
   "source": [
    "-------------------------------------------\n",
    "### det"
   ]
  },
  {
   "cell_type": "code",
   "execution_count": 45,
   "metadata": {},
   "outputs": [
    {
     "name": "stdout",
     "output_type": "stream",
     "text": [
      "[7.04699003 2.84032389] \n",
      " [[ 3.57877289e-03 -8.15668759e-05]\n",
      " [-8.15668759e-05  1.85952799e-06]]\n"
     ]
    }
   ],
   "source": [
    "params_det_op, cov_det_op = curve_fit(func, x_data, y_det_op)\n",
    "print(params_det_op, \"\\n\", cov_det_op)"
   ]
  },
  {
   "cell_type": "code",
   "execution_count": 46,
   "metadata": {},
   "outputs": [
    {
     "name": "stdout",
     "output_type": "stream",
     "text": [
      "[4.35673758e-06 2.86025863e+00] \n",
      " [[ 3.47608212e-16 -1.28141071e-11]\n",
      " [-1.28141071e-11  4.72490156e-07]]\n"
     ]
    }
   ],
   "source": [
    "params_det_time, cov_det_time = curve_fit(func, x_data, y_det_time)\n",
    "print(params_det_time, \"\\n\",  cov_det_time)"
   ]
  },
  {
   "cell_type": "code",
   "execution_count": null,
   "metadata": {},
   "outputs": [],
   "source": []
  }
 ],
 "metadata": {
  "kernelspec": {
   "display_name": "Python 3 (ipykernel)",
   "language": "python",
   "name": "python3"
  },
  "language_info": {
   "codemirror_mode": {
    "name": "ipython",
    "version": 3
   },
   "file_extension": ".py",
   "mimetype": "text/x-python",
   "name": "python",
   "nbconvert_exporter": "python",
   "pygments_lexer": "ipython3",
   "version": "3.9.12"
  }
 },
 "nbformat": 4,
 "nbformat_minor": 2
}
