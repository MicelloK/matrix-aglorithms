{
 "cells": [
  {
   "cell_type": "markdown",
   "metadata": {},
   "source": [
    "# Algorytmy macierzowe\n",
    "## lab 2"
   ]
  },
  {
   "cell_type": "code",
   "execution_count": 96,
   "metadata": {},
   "outputs": [],
   "source": [
    "import numpy as np\n",
    "from time import time\n",
    "from matplotlib import pyplot as plt"
   ]
  },
  {
   "cell_type": "markdown",
   "metadata": {},
   "source": [
    "Własna klasa Number do zliczania ilości operacji"
   ]
  },
  {
   "cell_type": "code",
   "execution_count": 245,
   "metadata": {},
   "outputs": [],
   "source": [
    "class Number(float):\n",
    "    operation_counter = 0\n",
    "    \n",
    "    def __repr__(self) -> str:\n",
    "        return f\"{self:.8f}\"\n",
    "    \n",
    "    def __radd__(self, other):\n",
    "        Number.operation_counter += 1\n",
    "        return Number(super().__radd__(other))\n",
    "\n",
    "    def __add__(self, other):\n",
    "        Number.operation_counter += 1\n",
    "        return Number(super().__add__(other))\n",
    "    \n",
    "    def __rsub__(self, other):\n",
    "        Number.operation_counter += 1\n",
    "        return Number(super().__rsub__(other))\n",
    "\n",
    "    def __sub__(self, other):\n",
    "        Number.operation_counter += 1\n",
    "        return Number(super().__sub__(other))\n",
    "    \n",
    "    def __mul__ (self, other):\n",
    "        Number.operation_counter += 1\n",
    "        return Number(super().__mul__(other))\n",
    "    \n",
    "    def __rmul__ (self, other):\n",
    "        Number.operation_counter += 1\n",
    "        return Number(super().__rmul__(other))\n",
    "    \n",
    "    def __truediv__(self, other):\n",
    "        Number.operation_counter += 1\n",
    "        return Number(super().__truediv__(other))\n",
    "    \n",
    "    def __rtruediv__(self, other):\n",
    "        Number.operation_counter += 1\n",
    "        return Number(super().__rtruediv__(other))\n",
    "    \n",
    "    def counter_reset():\n",
    "        Number.operation_counter = 0"
   ]
  },
  {
   "cell_type": "markdown",
   "metadata": {},
   "source": [
    "Generowanie macierzy"
   ]
  },
  {
   "cell_type": "code",
   "execution_count": 246,
   "metadata": {},
   "outputs": [],
   "source": [
    "def random_matrix(matrix_size, min_val, max_val):\n",
    "    \"\"\"Return matrix with random Number floats from [min_val, max_val)\"\"\"\n",
    "    matrix = (max_val - min_val) * np.random.random(matrix_size) + min_val\n",
    "    return np.array([[Number(value) for value in row] for row in matrix], dtype=Number)\n",
    "\n",
    "def transform_to_float(A):\n",
    "    \"\"\"np.linalg.inv doesnt work with dtype=Number\"\"\"\n",
    "    return np.array(A, dtype=float)"
   ]
  },
  {
   "cell_type": "code",
   "execution_count": 306,
   "metadata": {},
   "outputs": [],
   "source": [
    "exp = 1\n",
    "matrix_size = (2**exp, 2**exp)\n",
    "\n",
    "min_val = 0.00000001\n",
    "max_val = 1\n",
    "\n",
    "A = random_matrix(matrix_size, min_val, max_val)"
   ]
  },
  {
   "cell_type": "markdown",
   "metadata": {},
   "source": [
    "### Rekurencyjne odwracanie macierzy"
   ]
  },
  {
   "cell_type": "code",
   "execution_count": 307,
   "metadata": {},
   "outputs": [],
   "source": [
    "def inverse(A):\n",
    "    if A.shape[0] != A.shape[1]:\n",
    "        print(\"ERROR: Wrong matrix size!\")\n",
    "        return None\n",
    "    \n",
    "    if len(A) == 1:\n",
    "        return A\n",
    "    \n",
    "    if len(A) == 2:\n",
    "        return np.array(\n",
    "            [[A[1,1], -A[0,1]],\n",
    "             [-A[1, 0], A[0,0]]]\n",
    "        ) / (A[0,0]*A[1,1] - A[0,1]*A[1,0])\n",
    "        \n",
    "    matrix_size = len(A)\n",
    "    A11 = A[:matrix_size//2, :matrix_size//2]\n",
    "    A12 = A[:matrix_size//2, matrix_size//2:]\n",
    "    A21 = A[matrix_size//2:, :matrix_size//2]\n",
    "    A22 = A[matrix_size//2:, matrix_size//2:]\n",
    "    \n",
    "    A11_inv = inverse(A11)\n",
    "    S22 = A22 - A21 @ A11_inv @ A12\n",
    "    S22_inv = inverse(S22)\n",
    "    B11 = A11_inv @ (np.identity(len(A11)) + A12 @ S22_inv @ A21 @ A11_inv)\n",
    "    B12 = -A11_inv @ A12 @ S22_inv\n",
    "    B21 = -S22_inv @ A21 @ A11_inv\n",
    "    B22 = S22_inv\n",
    "    \n",
    "    return np.vstack((np.hstack((B11, B12)), np.hstack((B21, B22))))"
   ]
  },
  {
   "cell_type": "code",
   "execution_count": 308,
   "metadata": {},
   "outputs": [
    {
     "name": "stdout",
     "output_type": "stream",
     "text": [
      "Matrix size: (2, 2)\n",
      "Is correct?: True\n",
      "Number of operations: 3\n"
     ]
    }
   ],
   "source": [
    "Number.counter_reset()\n",
    "res = inverse(A)\n",
    "\n",
    "print(f\"Matrix size: {matrix_size}\")\n",
    "print(\"Is correct?:\", np.allclose(transform_to_float(res), np.linalg.inv(transform_to_float(A))))\n",
    "print(\"Number of operations:\", Number.operation_counter)"
   ]
  },
  {
   "cell_type": "markdown",
   "metadata": {},
   "source": [
    "### Rekurencyjna LU faktoryzacja"
   ]
  },
  {
   "cell_type": "code",
   "execution_count": 316,
   "metadata": {},
   "outputs": [],
   "source": [
    "def LU_factorization(A):\n",
    "    if A.shape[0] != A.shape[1]:\n",
    "        print(\"ERROR: Wrong matrix size!\")\n",
    "        return None\n",
    "    \n",
    "    if len(A) == 1:\n",
    "        L = np.array([[Number(1.0)]], dtype=Number)\n",
    "        U = A.copy()\n",
    "        return L, U\n",
    "    \n",
    "    matrix_size = len(A)\n",
    "    A11 = A[:matrix_size//2, :matrix_size//2]\n",
    "    A12 = A[:matrix_size//2, matrix_size//2:]\n",
    "    A21 = A[matrix_size//2:, :matrix_size//2]\n",
    "    A22 = A[matrix_size//2:, matrix_size//2:]\n",
    "    \n",
    "    L11, U11 = LU_factorization(A11)\n",
    "    U11_inv = inverse(U11)\n",
    "    L21 = A21 @ U11_inv\n",
    "    L11_inv = inverse(L11)\n",
    "    U12 = L11_inv @ A12\n",
    "    S = A22 - A21 @ U11_inv @ L11_inv @ A12\n",
    "    LS, US = LU_factorization(S)\n",
    "    \n",
    "    L = np.vstack((np.hstack((L11, np.zeros(L11.shape))), np.hstack((L21, LS))))\n",
    "    U = np.vstack((np.hstack((U11, U12)), np.hstack((np.zeros(L11.shape), US))))\n",
    "    return L, U"
   ]
  },
  {
   "cell_type": "code",
   "execution_count": 317,
   "metadata": {},
   "outputs": [
    {
     "name": "stdout",
     "output_type": "stream",
     "text": [
      "Matrix size: (2, 2)\n",
      "Is correct?: False\n",
      "[[ True  True]\n",
      " [False  True]]\n",
      "Number of operations: 28\n",
      "\n",
      "[[1.        0.       ]\n",
      " [0.1276774 1.       ]]\n",
      "[[1.00000000 0.0]\n",
      " [0.11568821 1.00000000]]\n",
      "\n",
      "[[0.95189171 0.65444784]\n",
      " [0.         0.58077036]]\n",
      "[[0.12153506 0.66432855]\n",
      " [0.0 0.57759286]]\n",
      "\n",
      "[[0.12153506 0.66432855]\n",
      " [0.95189171 0.65444784]]\n",
      "[[0.95189171 0.65444784]\n",
      " [0.12153506 0.66432855]]\n",
      "[[0.12153506 0.66432855]\n",
      " [0.01406017 0.65444784]]\n"
     ]
    }
   ],
   "source": [
    "Number.counter_reset()\n",
    "L, U = LU_factorization(A)\n",
    "\n",
    "# print(A)\n",
    "# print()\n",
    "# print(L @ U)\n",
    "# print()\n",
    "\n",
    "print(f\"Matrix size: {matrix_size}\")\n",
    "print(\"Is correct?:\", np.allclose(transform_to_float(A), transform_to_float(L @ U)))\n",
    "print(np.equal(transform_to_float(A), transform_to_float(L @ U)))\n",
    "print(\"Number of operations:\", Number.operation_counter)\n",
    "\n",
    "import scipy\n",
    "\n",
    "x = scipy.linalg.lu(transform_to_float(A))\n",
    "print()\n",
    "print(x[1])\n",
    "print(L)\n",
    "print()\n",
    "print(x[2])\n",
    "print(U)\n",
    "\n",
    "print()\n",
    "print(A)\n",
    "print(x[1] @ x[2])\n",
    "print(L @ U)\n",
    "\n"
   ]
  },
  {
   "cell_type": "markdown",
   "metadata": {},
   "source": [
    "### Rekurencyjne obliczanie wyznacznika"
   ]
  },
  {
   "cell_type": "code",
   "execution_count": null,
   "metadata": {},
   "outputs": [],
   "source": []
  }
 ],
 "metadata": {
  "kernelspec": {
   "display_name": "Python 3",
   "language": "python",
   "name": "python3"
  },
  "language_info": {
   "codemirror_mode": {
    "name": "ipython",
    "version": 3
   },
   "file_extension": ".py",
   "mimetype": "text/x-python",
   "name": "python",
   "nbconvert_exporter": "python",
   "pygments_lexer": "ipython3",
   "version": "3.11.6"
  }
 },
 "nbformat": 4,
 "nbformat_minor": 2
}
