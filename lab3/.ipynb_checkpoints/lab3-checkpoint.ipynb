{
 "cells": [
  {
   "cell_type": "code",
   "execution_count": 1,
   "id": "453612c6",
   "metadata": {},
   "outputs": [],
   "source": [
    "import numpy as np\n",
    "from time import time\n",
    "from matplotlib import pyplot as plt\n",
    "import pandas as pd\n",
    "\n",
    "import scipy.sparse as scs\n",
    "from sklearn.utils.extmath import randomized_svd"
   ]
  },
  {
   "cell_type": "code",
   "execution_count": 78,
   "id": "29079cd5",
   "metadata": {},
   "outputs": [],
   "source": [
    "def random_matrix(n,m,density):\n",
    "    A = scs.random(n,m,density)\n",
    "    return A.toarray()\n"
   ]
  },
  {
   "cell_type": "markdown",
   "id": "4c43cc7f",
   "metadata": {},
   "source": [
    "Rekurencyjna kompresja"
   ]
  },
  {
   "cell_type": "code",
   "execution_count": 72,
   "id": "deb5412b",
   "metadata": {},
   "outputs": [],
   "source": [
    "class Node:\n",
    "    def __init__(self, t_min, t_max, s_min, s_max):\n",
    "        self.t_min = t_min\n",
    "        self.t_max = t_max\n",
    "        \n",
    "        self.s_min = s_min\n",
    "        self.s_max = s_max\n",
    "        \n",
    "        self.rank = None\n",
    "        \n",
    "        #[A11, A12]\n",
    "        #[A21, A22]\n",
    "        \n",
    "        self.U = None\n",
    "        self.S = None\n",
    "        self.VT = None\n",
    "        \n",
    "        self.zeros = False\n",
    "        \n",
    "        \n",
    "        self.children = []\n",
    "        \n",
    "        \n"
   ]
  },
  {
   "cell_type": "code",
   "execution_count": 27,
   "id": "a4fb7e47",
   "metadata": {},
   "outputs": [],
   "source": [
    "def is_admissible(matrix, S, r, eps):\n",
    "    if min(matrix.shape) <= r+1:\n",
    "        return True\n",
    "    \n",
    "    if S[-1] < eps:\n",
    "        return True\n",
    "    \n",
    "    return False     "
   ]
  },
  {
   "cell_type": "code",
   "execution_count": 73,
   "id": "f6184b09",
   "metadata": {},
   "outputs": [],
   "source": [
    "def create_tree(matrix, r, eps):\n",
    "    n, m = matrix.shape\n",
    "\n",
    "    \n",
    "    def create_tree_r(t_min, t_max, s_min, s_max):\n",
    "        nonlocal matrix, r, eps\n",
    "        \n",
    "        if not np.any(matrix[t_min:t_max, s_min:s_max]):\n",
    "            v = Node(t_min, t_max, s_min, s_max)\n",
    "            v.rank = 0\n",
    "            v.zeros = True\n",
    "            return v\n",
    "    \n",
    "        U,S,V = randomized_svd(matrix[t_min:t_max, s_min:s_max], r+1)\n",
    "#naprawić odcinanie wartości poniżej eps\n",
    "#         S = S[S >= eps]  \n",
    "#         rank = len(S)\n",
    "        \n",
    "#         U = U[:rank, :]\n",
    "#         V = V[:, :rank]\n",
    "        rank = r\n",
    "        if is_admissible(matrix[t_min:t_max, s_min:s_max], S, r, eps):\n",
    "            v = Node(t_min, t_max, s_min, s_max) #compress matrix\n",
    "            v.rank = rank\n",
    "            v.U = U\n",
    "            v.S = S\n",
    "            v.V = V\n",
    "            \n",
    "        else:\n",
    "            v = Node(t_min, t_max, s_min, s_max)\n",
    "            \n",
    "            t_newmax = (t_min + t_max)//2\n",
    "            s_newmax = (s_min + s_max)//2\n",
    "            \n",
    "            v1 = create_tree_r(t_min, t_newmax, s_min, s_newmax)\n",
    "            v2 = create_tree_r(t_min, t_newmax, s_newmax, s_max)\n",
    "            v3 = create_tree_r(t_newmax, t_max, s_min, s_newmax)\n",
    "            v4 = create_tree_r(t_newmax, t_max, s_newmax, s_max)\n",
    "            \n",
    "            v.children = [v1, v2, v3, v4]\n",
    "        return v\n",
    "    return create_tree_r(0, n, 0, m)"
   ]
  },
  {
   "cell_type": "code",
   "execution_count": 74,
   "id": "955d86d5",
   "metadata": {},
   "outputs": [],
   "source": [
    "def decompress(node):\n",
    "    if node.rank is not None:\n",
    "        if node.rank > 0:\n",
    "            return node.U@np.diag(node.S)@node.V\n",
    "        else:\n",
    "            return np.zeros((node.t_max - node.t_min, node.s_max - node.s_min))\n",
    "    else:\n",
    "        return np.vstack(\n",
    "            (\n",
    "                np.hstack((decompress(node.children[0]), decompress(node.children[1]))),\n",
    "                np.hstack((decompress(node.children[2]), decompress(node.children[3]))),\n",
    "            )\n",
    "        )   "
   ]
  },
  {
   "cell_type": "code",
   "execution_count": 85,
   "id": "52452e49",
   "metadata": {},
   "outputs": [
    {
     "name": "stdout",
     "output_type": "stream",
     "text": [
      "[[0.35910112 0.         0.         ... 0.         0.         0.48851481]\n",
      " [0.         0.         0.         ... 0.         0.         0.        ]\n",
      " [0.         0.         0.         ... 0.         0.90117764 0.8770269 ]\n",
      " ...\n",
      " [0.         0.         0.         ... 0.08280862 0.         0.        ]\n",
      " [0.         0.05504324 0.         ... 0.         0.         0.        ]\n",
      " [0.         0.         0.         ... 0.89723959 0.         0.        ]]\n"
     ]
    }
   ],
   "source": [
    "s = 2**8\n",
    "a = scs.random(s,s,density = 0.25)\n",
    "a = a.toarray()\n",
    "print(a)"
   ]
  },
  {
   "cell_type": "code",
   "execution_count": 86,
   "id": "d93917fb",
   "metadata": {},
   "outputs": [],
   "source": [
    "tree = create_tree(a, 1, 10**(-8))\n",
    "#print(decompress(tree))"
   ]
  },
  {
   "cell_type": "code",
   "execution_count": 87,
   "id": "bea11ef2",
   "metadata": {},
   "outputs": [
    {
     "name": "stdout",
     "output_type": "stream",
     "text": [
      "True\n"
     ]
    }
   ],
   "source": [
    "print(np.allclose(a, decompress(tree)))"
   ]
  },
  {
   "cell_type": "code",
   "execution_count": null,
   "id": "56b942b5",
   "metadata": {},
   "outputs": [],
   "source": []
  },
  {
   "cell_type": "markdown",
   "id": "ffc07402",
   "metadata": {},
   "source": [
    "Pomiary czasu"
   ]
  },
  {
   "cell_type": "code",
   "execution_count": 91,
   "id": "ddedc9d2",
   "metadata": {},
   "outputs": [
    {
     "name": "stdout",
     "output_type": "stream",
     "text": [
      "0.01 64 1 1.291273001369248 0.015003204345703125\n",
      "0.01 64 1 1.2902409154772732e-16 0.019003629684448242\n",
      "0.01 64 1 3.639342498754476e-48 0.0180051326751709\n",
      "0.01 64 4 1.291273001369248 0.002000093460083008\n",
      "0.01 64 4 1.2902409154772732e-16 0.01000213623046875\n",
      "0.01 64 4 3.639342498754476e-48 0.012002229690551758\n",
      "0.01 128 1 1.785934515846019 0.0010004043579101562\n",
      "0.01 128 1 0.35892861166374884 0.07301640510559082\n",
      "0.01 128 1 1.9648713888404396e-28 0.08902120590209961\n",
      "0.01 128 4 1.785934515846019 0.0020003318786621094\n",
      "0.01 128 4 0.35892861166374884 0.03200721740722656\n",
      "0.01 128 4 1.9648713888404396e-28 0.04501008987426758\n",
      "0.05 64 1 2.31173910516653 0.0010001659393310547\n",
      "0.05 64 1 0.7708983786184911 0.03400754928588867\n",
      "0.05 64 1 1.414117222403896e-16 0.08701920509338379\n",
      "0.05 64 4 2.31173910516653 0.0009999275207519531\n",
      "0.05 64 4 0.7708983786184911 0.016003847122192383\n",
      "0.05 64 4 1.414117222403896e-16 0.030006885528564453\n",
      "0.05 128 1 3.9996890008700188 0.0010001659393310547\n",
      "0.05 128 1 1.0778105066426293 0.07301664352416992\n",
      "0.05 128 1 0.0018793310685818391 0.30806970596313477\n",
      "0.05 128 4 3.9996890008700188 0.002000093460083008\n",
      "0.05 128 4 1.0778105066426293 0.03800821304321289\n",
      "0.05 128 4 0.0018793310685818391 0.13503122329711914\n",
      "0.1 64 1 3.725029731879746 0.0010001659393310547\n",
      "0.1 64 1 1.0494209747747665 0.03300738334655762\n",
      "0.1 64 1 0.00361170050156414 0.12802910804748535\n",
      "0.1 64 4 3.725029731879746 0.0010001659393310547\n",
      "0.1 64 4 1.0494209747747665 0.012003183364868164\n",
      "0.1 64 4 0.00361170050156414 0.04400944709777832\n",
      "0.1 128 1 6.707471534032747 0.002000570297241211\n",
      "0.1 128 1 1.514843405491808 0.05101132392883301\n",
      "0.1 128 1 0.024136963798940377 0.5061147212982178\n",
      "0.1 128 4 6.707471534032747 0.004001617431640625\n",
      "0.1 128 4 1.514843405491808 0.04301786422729492\n",
      "0.1 128 4 0.024136963798940377 0.20104551315307617\n",
      "0.2 64 1 6.871895184518933 0.0010004043579101562\n",
      "0.2 64 1 1.4696214531242098 0.03500795364379883\n",
      "0.2 64 1 0.019985833723158864 0.20016694068908691\n",
      "0.2 64 4 6.871895184518933 0.0010001659393310547\n",
      "0.2 64 4 1.4696214531242098 0.011002302169799805\n",
      "0.2 64 4 0.019985833723158864 0.09602141380310059\n",
      "0.2 128 1 13.67681876519465 0.0010004043579101562\n",
      "0.2 128 1 2.1271594111329746 0.04401087760925293\n",
      "0.2 128 1 0.02584769011947789 0.8382253646850586\n",
      "0.2 128 4 13.67681876519465 0.006000995635986328\n",
      "0.2 128 4 2.1271594111329746 0.03300738334655762\n",
      "0.2 128 4 0.02584769011947789 0.35508060455322266\n"
     ]
    }
   ],
   "source": [
    "sizes = [2**i for i in range(6,8)]\n",
    "densities = [0.01, 0.05, 0.1, 0.2]\n",
    "r = [1,4]\n",
    "for density in densities:\n",
    "    for size in sizes:\n",
    "        matrix = random_matrix(size,size,density)\n",
    "        \n",
    "        _, S, _ = np.linalg.svd(matrix)\n",
    "        singular_values = [S[0], S[size//2], S[-1]]\n",
    "        \n",
    "        for b in [1,4]:\n",
    "            for singular_value in singular_values:\n",
    "                start = time()\n",
    "                tree = create_tree(matrix, b, singular_value)\n",
    "                end = time()\n",
    "                print(density, size, b, singular_value, end-start)\n",
    "                           \n",
    "                #zrobić coś z wynikami\n",
    "        "
   ]
  }
 ],
 "metadata": {
  "kernelspec": {
   "display_name": "Python 3 (ipykernel)",
   "language": "python",
   "name": "python3"
  },
  "language_info": {
   "codemirror_mode": {
    "name": "ipython",
    "version": 3
   },
   "file_extension": ".py",
   "mimetype": "text/x-python",
   "name": "python",
   "nbconvert_exporter": "python",
   "pygments_lexer": "ipython3",
   "version": "3.11.5"
  }
 },
 "nbformat": 4,
 "nbformat_minor": 5
}
