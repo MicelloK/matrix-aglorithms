{
 "cells": [
  {
   "cell_type": "code",
   "execution_count": 1,
   "id": "453612c6",
   "metadata": {},
   "outputs": [],
   "source": [
    "import numpy as np\n",
    "from time import time\n",
    "from matplotlib import pyplot as plt\n",
    "import pandas as pd\n",
    "\n",
    "import scipy.sparse as scs\n",
    "from sklearn.utils.extmath import randomized_svd"
   ]
  },
  {
   "cell_type": "code",
   "execution_count": null,
   "id": "a7720eb1",
   "metadata": {},
   "outputs": [],
   "source": []
  },
  {
   "cell_type": "markdown",
   "id": "4c43cc7f",
   "metadata": {},
   "source": [
    "Rekurencyjna kompresja"
   ]
  },
  {
   "cell_type": "code",
   "execution_count": 72,
   "id": "39636248",
   "metadata": {},
   "outputs": [],
   "source": [
    "class Node:\n",
    "    def __init__(self, t_min, t_max, s_min, s_max):\n",
    "        self.t_min = t_min\n",
    "        self.t_max = t_max\n",
    "        \n",
    "        self.s_min = s_min\n",
    "        self.s_max = s_max\n",
    "        \n",
    "        self.rank = None\n",
    "        \n",
    "        #[A11, A12]\n",
    "        #[A21, A22]\n",
    "        \n",
    "        self.U = None\n",
    "        self.S = None\n",
    "        self.VT = None\n",
    "        \n",
    "        self.zeros = False\n",
    "        \n",
    "        \n",
    "        self.children = []\n",
    "        \n",
    "        \n"
   ]
  },
  {
   "cell_type": "code",
   "execution_count": 27,
   "id": "1cec68fd",
   "metadata": {},
   "outputs": [],
   "source": [
    "def is_admissible(matrix, S, r, eps):\n",
    "    if min(matrix.shape) <= r+1:\n",
    "        return True\n",
    "    \n",
    "    if S[-1] < eps:\n",
    "        return True\n",
    "    \n",
    "    return False     "
   ]
  },
  {
   "cell_type": "code",
   "execution_count": 73,
   "id": "c78cd6f2",
   "metadata": {},
   "outputs": [],
   "source": [
    "def create_tree(matrix, r, eps):\n",
    "    n, m = matrix.shape\n",
    "\n",
    "    \n",
    "    def create_tree_r(t_min, t_max, s_min, s_max):\n",
    "        nonlocal matrix, r, eps\n",
    "        \n",
    "        if not np.any(matrix[t_min:t_max, s_min:s_max]):\n",
    "            v = Node(t_min, t_max, s_min, s_max)\n",
    "            v.rank = 0\n",
    "            v.zeros = True\n",
    "            return v\n",
    "    \n",
    "        U,S,V = randomized_svd(matrix[t_min:t_max, s_min:s_max], r+1)\n",
    "#dodać odcinanie wa\n",
    "#         S = S[S >= eps]  \n",
    "#         rank = len(S)\n",
    "        \n",
    "#         U = U[:rank, :]\n",
    "#         V = V[:, :rank]\n",
    "        rank = r\n",
    "        if is_admissible(matrix[t_min:t_max, s_min:s_max], S, r, eps):\n",
    "            v = Node(t_min, t_max, s_min, s_max) #compress matrix\n",
    "            v.rank = rank\n",
    "            v.U = U\n",
    "            v.S = S\n",
    "            v.V = V\n",
    "            \n",
    "        else:\n",
    "            v = Node(t_min, t_max, s_min, s_max)\n",
    "            \n",
    "            t_newmax = (t_min + t_max)//2\n",
    "            s_newmax = (s_min + s_max)//2\n",
    "            \n",
    "            v1 = create_tree_r(t_min, t_newmax, s_min, s_newmax)\n",
    "            v2 = create_tree_r(t_min, t_newmax, s_newmax, s_max)\n",
    "            v3 = create_tree_r(t_newmax, t_max, s_min, s_newmax)\n",
    "            v4 = create_tree_r(t_newmax, t_max, s_newmax, s_max)\n",
    "            \n",
    "            v.children = [v1, v2, v3, v4]\n",
    "        return v\n",
    "    return create_tree_r(0, n, 0, m)"
   ]
  },
  {
   "cell_type": "code",
   "execution_count": 74,
   "id": "36f07a30",
   "metadata": {},
   "outputs": [],
   "source": [
    "def decompress(node):\n",
    "    if node.rank is not None:\n",
    "        if node.rank > 0:\n",
    "            return node.U@np.diag(node.S)@node.V\n",
    "        else:\n",
    "            return np.zeros((node.t_max - node.t_min, node.s_max - node.s_min))\n",
    "    else:\n",
    "        return np.vstack(\n",
    "            (\n",
    "                np.hstack((decompress(node.children[0]), decompress(node.children[1]))),\n",
    "                np.hstack((decompress(node.children[2]), decompress(node.children[3]))),\n",
    "            )\n",
    "        )\n",
    "    \n",
    "    \n",
    "        "
   ]
  },
  {
   "cell_type": "code",
   "execution_count": 19,
   "id": "3f42513e",
   "metadata": {},
   "outputs": [
    {
     "data": {
      "text/plain": [
       "array([[0.        , 0.        , 0.53407934, 0.        ],\n",
       "       [0.        , 0.        , 0.        , 0.        ],\n",
       "       [0.30765608, 0.        , 0.        , 0.79540715],\n",
       "       [0.        , 0.        , 0.        , 0.87281031]])"
      ]
     },
     "execution_count": 19,
     "metadata": {},
     "output_type": "execute_result"
    }
   ],
   "source": [
    "a = scs.random(4,4,density = 0.25)\n",
    "a = a.toarray()\n",
    "print(a)"
   ]
  },
  {
   "cell_type": "code",
   "execution_count": 75,
   "id": "7291feda",
   "metadata": {},
   "outputs": [
    {
     "name": "stdout",
     "output_type": "stream",
     "text": [
      "[[0.         0.         0.53407934 0.        ]\n",
      " [0.         0.         0.         0.        ]\n",
      " [0.30765608 0.         0.         0.79540715]\n",
      " [0.         0.         0.         0.87281031]]\n"
     ]
    }
   ],
   "source": [
    "tree = create_tree(a, 1, 10**(-8))\n",
    "print(decompress(tree))"
   ]
  },
  {
   "cell_type": "code",
   "execution_count": 77,
   "id": "aff5cad6",
   "metadata": {},
   "outputs": [
    {
     "name": "stdout",
     "output_type": "stream",
     "text": [
      "True\n"
     ]
    }
   ],
   "source": [
    "print(np.allclose(a, decompress(tree)))"
   ]
  }
 ],
 "metadata": {
  "kernelspec": {
   "display_name": "Python 3 (ipykernel)",
   "language": "python",
   "name": "python3"
  },
  "language_info": {
   "codemirror_mode": {
    "name": "ipython",
    "version": 3
   },
   "file_extension": ".py",
   "mimetype": "text/x-python",
   "name": "python",
   "nbconvert_exporter": "python",
   "pygments_lexer": "ipython3",
   "version": "3.11.5"
  }
 },
 "nbformat": 4,
 "nbformat_minor": 5
}
